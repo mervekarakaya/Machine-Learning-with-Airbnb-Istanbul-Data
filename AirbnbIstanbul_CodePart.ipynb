{
 "cells": [
  {
   "cell_type": "markdown",
   "metadata": {},
   "source": [
    "# Ceng 474 Project - Machine Learning Process with Airbnb Istanbul Data"
   ]
  },
  {
   "cell_type": "markdown",
   "metadata": {},
   "source": [
    "**Merve KARAKAYA**"
   ]
  },
  {
   "cell_type": "markdown",
   "metadata": {},
   "source": [
    "# Exploratory Data Analysis and Visualizations"
   ]
  },
  {
   "cell_type": "markdown",
   "metadata": {},
   "source": [
    "***Import libraries***"
   ]
  },
  {
   "cell_type": "code",
   "execution_count": 1,
   "metadata": {},
   "outputs": [],
   "source": [
    "import numpy as np\n",
    "import pandas as pd\n",
    "import matplotlib.pyplot as plt\n",
    "import seaborn as sns\n",
    "import sklearn as sk\n",
    "from numpy import unique\n",
    "%matplotlib inline"
   ]
  },
  {
   "cell_type": "markdown",
   "metadata": {},
   "source": [
    "***Examining the data set story and its structure.***"
   ]
  },
  {
   "cell_type": "code",
   "execution_count": 2,
   "metadata": {},
   "outputs": [
    {
     "name": "stdout",
     "output_type": "stream",
     "text": [
      "      id                                 name  host_id host_name  \\\n",
      "0   4826                            The Place     6603      Kaan   \n",
      "1  20815    The Bosphorus from The Comfy Hill    78838    Gülder   \n",
      "2  25436  House for vacation rental furnutare   105823     Yesim   \n",
      "3  27271      LOVELY APT. IN PERFECT LOCATION   117026     Mutlu   \n",
      "4  28277       Duplex Apartment with Terrace    121607      Alen   \n",
      "\n",
      "   neighbourhood_group neighbourhood  latitude  longitude        room_type  \\\n",
      "0                  NaN       Uskudar  41.05650   29.05367  Entire home/apt   \n",
      "1                  NaN      Besiktas  41.06984   29.04545  Entire home/apt   \n",
      "2                  NaN      Besiktas  41.07731   29.03891  Entire home/apt   \n",
      "3                  NaN       Beyoglu  41.03220   28.98216  Entire home/apt   \n",
      "4                  NaN         Sisli  41.04471   28.98567  Entire home/apt   \n",
      "\n",
      "   price  minimum_nights  number_of_reviews last_review  reviews_per_month  \\\n",
      "0    554               1                  1    6/1/2009               0.01   \n",
      "1    100              30                 41   11/7/2018               0.38   \n",
      "2    211              21                  0         NaN                NaN   \n",
      "3    237               5                  2    5/4/2018               0.04   \n",
      "4    591               3                  0         NaN                NaN   \n",
      "\n",
      "   calculated_host_listings_count  availability_365  \n",
      "0                               1               365  \n",
      "1                               2                49  \n",
      "2                               1                83  \n",
      "3                               1               228  \n",
      "4                              13               356  \n"
     ]
    }
   ],
   "source": [
    "# Reading data set\n",
    "airbnb = pd.read_csv(\"AirbnbIstanbul.csv\")\n",
    "#First 5 observation displays\n",
    "print(airbnb.head(5))"
   ]
  },
  {
   "cell_type": "code",
   "execution_count": 3,
   "metadata": {},
   "outputs": [
    {
     "data": {
      "text/html": [
       "<div>\n",
       "<style scoped>\n",
       "    .dataframe tbody tr th:only-of-type {\n",
       "        vertical-align: middle;\n",
       "    }\n",
       "\n",
       "    .dataframe tbody tr th {\n",
       "        vertical-align: top;\n",
       "    }\n",
       "\n",
       "    .dataframe thead th {\n",
       "        text-align: right;\n",
       "    }\n",
       "</style>\n",
       "<table border=\"1\" class=\"dataframe\">\n",
       "  <thead>\n",
       "    <tr style=\"text-align: right;\">\n",
       "      <th></th>\n",
       "      <th>id</th>\n",
       "      <th>name</th>\n",
       "      <th>host_id</th>\n",
       "      <th>host_name</th>\n",
       "      <th>neighbourhood_group</th>\n",
       "      <th>neighbourhood</th>\n",
       "      <th>latitude</th>\n",
       "      <th>longitude</th>\n",
       "      <th>room_type</th>\n",
       "      <th>price</th>\n",
       "      <th>minimum_nights</th>\n",
       "      <th>number_of_reviews</th>\n",
       "      <th>last_review</th>\n",
       "      <th>reviews_per_month</th>\n",
       "      <th>calculated_host_listings_count</th>\n",
       "      <th>availability_365</th>\n",
       "    </tr>\n",
       "  </thead>\n",
       "  <tbody>\n",
       "    <tr>\n",
       "      <th>16246</th>\n",
       "      <td>32452512</td>\n",
       "      <td>Best place of town</td>\n",
       "      <td>29568076</td>\n",
       "      <td>Antonio</td>\n",
       "      <td>NaN</td>\n",
       "      <td>Sisli</td>\n",
       "      <td>41.04775</td>\n",
       "      <td>28.99283</td>\n",
       "      <td>Entire home/apt</td>\n",
       "      <td>248</td>\n",
       "      <td>1</td>\n",
       "      <td>0</td>\n",
       "      <td>NaN</td>\n",
       "      <td>NaN</td>\n",
       "      <td>4</td>\n",
       "      <td>365</td>\n",
       "    </tr>\n",
       "    <tr>\n",
       "      <th>16247</th>\n",
       "      <td>32453285</td>\n",
       "      <td>luxury flat in city center atiye str nisantası</td>\n",
       "      <td>29568076</td>\n",
       "      <td>Antonio</td>\n",
       "      <td>NaN</td>\n",
       "      <td>Sisli</td>\n",
       "      <td>41.04775</td>\n",
       "      <td>28.99283</td>\n",
       "      <td>Entire home/apt</td>\n",
       "      <td>248</td>\n",
       "      <td>1</td>\n",
       "      <td>0</td>\n",
       "      <td>NaN</td>\n",
       "      <td>NaN</td>\n",
       "      <td>4</td>\n",
       "      <td>358</td>\n",
       "    </tr>\n",
       "    <tr>\n",
       "      <th>16248</th>\n",
       "      <td>32453323</td>\n",
       "      <td>Double Room</td>\n",
       "      <td>228430419</td>\n",
       "      <td>Saladin</td>\n",
       "      <td>NaN</td>\n",
       "      <td>Fatih</td>\n",
       "      <td>41.00435</td>\n",
       "      <td>28.97692</td>\n",
       "      <td>Private room</td>\n",
       "      <td>237</td>\n",
       "      <td>2</td>\n",
       "      <td>0</td>\n",
       "      <td>NaN</td>\n",
       "      <td>NaN</td>\n",
       "      <td>1</td>\n",
       "      <td>364</td>\n",
       "    </tr>\n",
       "    <tr>\n",
       "      <th>16249</th>\n",
       "      <td>32455952</td>\n",
       "      <td>Cozy room in charming home at the heart of Bey...</td>\n",
       "      <td>108703005</td>\n",
       "      <td>Pelin</td>\n",
       "      <td>NaN</td>\n",
       "      <td>Beyoglu</td>\n",
       "      <td>41.03118</td>\n",
       "      <td>28.97837</td>\n",
       "      <td>Private room</td>\n",
       "      <td>53</td>\n",
       "      <td>3</td>\n",
       "      <td>0</td>\n",
       "      <td>NaN</td>\n",
       "      <td>NaN</td>\n",
       "      <td>2</td>\n",
       "      <td>345</td>\n",
       "    </tr>\n",
       "    <tr>\n",
       "      <th>16250</th>\n",
       "      <td>32457561</td>\n",
       "      <td>Perfect view with comfortable room</td>\n",
       "      <td>25991676</td>\n",
       "      <td>Uğur</td>\n",
       "      <td>NaN</td>\n",
       "      <td>Kadikoy</td>\n",
       "      <td>40.99467</td>\n",
       "      <td>29.05423</td>\n",
       "      <td>Private room</td>\n",
       "      <td>100</td>\n",
       "      <td>1</td>\n",
       "      <td>0</td>\n",
       "      <td>NaN</td>\n",
       "      <td>NaN</td>\n",
       "      <td>1</td>\n",
       "      <td>364</td>\n",
       "    </tr>\n",
       "  </tbody>\n",
       "</table>\n",
       "</div>"
      ],
      "text/plain": [
       "             id                                               name    host_id  \\\n",
       "16246  32452512                                 Best place of town   29568076   \n",
       "16247  32453285     luxury flat in city center atiye str nisantası   29568076   \n",
       "16248  32453323                                        Double Room  228430419   \n",
       "16249  32455952  Cozy room in charming home at the heart of Bey...  108703005   \n",
       "16250  32457561                 Perfect view with comfortable room   25991676   \n",
       "\n",
       "      host_name  neighbourhood_group neighbourhood  latitude  longitude  \\\n",
       "16246   Antonio                  NaN         Sisli  41.04775   28.99283   \n",
       "16247   Antonio                  NaN         Sisli  41.04775   28.99283   \n",
       "16248   Saladin                  NaN         Fatih  41.00435   28.97692   \n",
       "16249     Pelin                  NaN       Beyoglu  41.03118   28.97837   \n",
       "16250      Uğur                  NaN       Kadikoy  40.99467   29.05423   \n",
       "\n",
       "             room_type  price  minimum_nights  number_of_reviews last_review  \\\n",
       "16246  Entire home/apt    248               1                  0         NaN   \n",
       "16247  Entire home/apt    248               1                  0         NaN   \n",
       "16248     Private room    237               2                  0         NaN   \n",
       "16249     Private room     53               3                  0         NaN   \n",
       "16250     Private room    100               1                  0         NaN   \n",
       "\n",
       "       reviews_per_month  calculated_host_listings_count  availability_365  \n",
       "16246                NaN                               4               365  \n",
       "16247                NaN                               4               358  \n",
       "16248                NaN                               1               364  \n",
       "16249                NaN                               2               345  \n",
       "16250                NaN                               1               364  "
      ]
     },
     "execution_count": 3,
     "metadata": {},
     "output_type": "execute_result"
    }
   ],
   "source": [
    "#last 5 observation displays\n",
    "airbnb.tail()"
   ]
  },
  {
   "cell_type": "markdown",
   "metadata": {},
   "source": [
    "***Data set structural information***"
   ]
  },
  {
   "cell_type": "code",
   "execution_count": 4,
   "metadata": {},
   "outputs": [
    {
     "data": {
      "text/plain": [
       "(16251, 16)"
      ]
     },
     "execution_count": 4,
     "metadata": {},
     "output_type": "execute_result"
    }
   ],
   "source": [
    "#Data set has 16251 samples(rows) and 16 features(columns)\n",
    "airbnb.shape"
   ]
  },
  {
   "cell_type": "code",
   "execution_count": 5,
   "metadata": {},
   "outputs": [
    {
     "data": {
      "text/plain": [
       "Index(['id', 'name', 'host_id', 'host_name', 'neighbourhood_group',\n",
       "       'neighbourhood', 'latitude', 'longitude', 'room_type', 'price',\n",
       "       'minimum_nights', 'number_of_reviews', 'last_review',\n",
       "       'reviews_per_month', 'calculated_host_listings_count',\n",
       "       'availability_365'],\n",
       "      dtype='object')"
      ]
     },
     "execution_count": 5,
     "metadata": {},
     "output_type": "execute_result"
    }
   ],
   "source": [
    "#Displaying these columns meanly features\n",
    "airbnb.columns"
   ]
  },
  {
   "cell_type": "code",
   "execution_count": 6,
   "metadata": {},
   "outputs": [
    {
     "name": "stdout",
     "output_type": "stream",
     "text": [
      "<class 'pandas.core.frame.DataFrame'>\n",
      "RangeIndex: 16251 entries, 0 to 16250\n",
      "Data columns (total 16 columns):\n",
      " #   Column                          Non-Null Count  Dtype  \n",
      "---  ------                          --------------  -----  \n",
      " 0   id                              16251 non-null  int64  \n",
      " 1   name                            16160 non-null  object \n",
      " 2   host_id                         16251 non-null  int64  \n",
      " 3   host_name                       16244 non-null  object \n",
      " 4   neighbourhood_group             0 non-null      float64\n",
      " 5   neighbourhood                   16251 non-null  object \n",
      " 6   latitude                        16251 non-null  float64\n",
      " 7   longitude                       16251 non-null  float64\n",
      " 8   room_type                       16251 non-null  object \n",
      " 9   price                           16251 non-null  int64  \n",
      " 10  minimum_nights                  16251 non-null  int64  \n",
      " 11  number_of_reviews               16251 non-null  int64  \n",
      " 12  last_review                     7767 non-null   object \n",
      " 13  reviews_per_month               7767 non-null   float64\n",
      " 14  calculated_host_listings_count  16251 non-null  int64  \n",
      " 15  availability_365                16251 non-null  int64  \n",
      "dtypes: float64(4), int64(7), object(5)\n",
      "memory usage: 2.0+ MB\n"
     ]
    }
   ],
   "source": [
    "#Detailed representation these columns meanly features\n",
    "airbnb.info()"
   ]
  },
  {
   "cell_type": "code",
   "execution_count": 7,
   "metadata": {},
   "outputs": [
    {
     "data": {
      "text/plain": [
       "id                                  int64\n",
       "name                               object\n",
       "host_id                             int64\n",
       "host_name                          object\n",
       "neighbourhood_group               float64\n",
       "neighbourhood                      object\n",
       "latitude                          float64\n",
       "longitude                         float64\n",
       "room_type                          object\n",
       "price                               int64\n",
       "minimum_nights                      int64\n",
       "number_of_reviews                   int64\n",
       "last_review                        object\n",
       "reviews_per_month                 float64\n",
       "calculated_host_listings_count      int64\n",
       "availability_365                    int64\n",
       "dtype: object"
      ]
     },
     "execution_count": 7,
     "metadata": {},
     "output_type": "execute_result"
    }
   ],
   "source": [
    "#Data types in these columns\n",
    "airbnb.dtypes"
   ]
  },
  {
   "cell_type": "code",
   "execution_count": 8,
   "metadata": {},
   "outputs": [
    {
     "data": {
      "text/html": [
       "<div>\n",
       "<style scoped>\n",
       "    .dataframe tbody tr th:only-of-type {\n",
       "        vertical-align: middle;\n",
       "    }\n",
       "\n",
       "    .dataframe tbody tr th {\n",
       "        vertical-align: top;\n",
       "    }\n",
       "\n",
       "    .dataframe thead th {\n",
       "        text-align: right;\n",
       "    }\n",
       "</style>\n",
       "<table border=\"1\" class=\"dataframe\">\n",
       "  <thead>\n",
       "    <tr style=\"text-align: right;\">\n",
       "      <th></th>\n",
       "      <th>count</th>\n",
       "      <th>mean</th>\n",
       "      <th>std</th>\n",
       "      <th>min</th>\n",
       "      <th>25%</th>\n",
       "      <th>50%</th>\n",
       "      <th>75%</th>\n",
       "      <th>max</th>\n",
       "    </tr>\n",
       "  </thead>\n",
       "  <tbody>\n",
       "    <tr>\n",
       "      <th>id</th>\n",
       "      <td>16251.0</td>\n",
       "      <td>1.885640e+07</td>\n",
       "      <td>1.054805e+07</td>\n",
       "      <td>4826.00000</td>\n",
       "      <td>8.500978e+06</td>\n",
       "      <td>2.161975e+07</td>\n",
       "      <td>2.870219e+07</td>\n",
       "      <td>3.245756e+07</td>\n",
       "    </tr>\n",
       "    <tr>\n",
       "      <th>host_id</th>\n",
       "      <td>16251.0</td>\n",
       "      <td>8.888706e+07</td>\n",
       "      <td>8.162114e+07</td>\n",
       "      <td>6603.00000</td>\n",
       "      <td>1.788230e+07</td>\n",
       "      <td>5.210740e+07</td>\n",
       "      <td>1.681345e+08</td>\n",
       "      <td>2.437341e+08</td>\n",
       "    </tr>\n",
       "    <tr>\n",
       "      <th>neighbourhood_group</th>\n",
       "      <td>0.0</td>\n",
       "      <td>NaN</td>\n",
       "      <td>NaN</td>\n",
       "      <td>NaN</td>\n",
       "      <td>NaN</td>\n",
       "      <td>NaN</td>\n",
       "      <td>NaN</td>\n",
       "      <td>NaN</td>\n",
       "    </tr>\n",
       "    <tr>\n",
       "      <th>latitude</th>\n",
       "      <td>16251.0</td>\n",
       "      <td>4.102646e+01</td>\n",
       "      <td>4.319838e-02</td>\n",
       "      <td>40.81469</td>\n",
       "      <td>4.100436e+01</td>\n",
       "      <td>4.103135e+01</td>\n",
       "      <td>4.104781e+01</td>\n",
       "      <td>4.141442e+01</td>\n",
       "    </tr>\n",
       "    <tr>\n",
       "      <th>longitude</th>\n",
       "      <td>16251.0</td>\n",
       "      <td>2.898539e+01</td>\n",
       "      <td>1.143578e-01</td>\n",
       "      <td>28.03200</td>\n",
       "      <td>2.897413e+01</td>\n",
       "      <td>2.898426e+01</td>\n",
       "      <td>2.902245e+01</td>\n",
       "      <td>2.990778e+01</td>\n",
       "    </tr>\n",
       "    <tr>\n",
       "      <th>price</th>\n",
       "      <td>16251.0</td>\n",
       "      <td>3.547239e+02</td>\n",
       "      <td>1.428938e+03</td>\n",
       "      <td>0.00000</td>\n",
       "      <td>1.050000e+02</td>\n",
       "      <td>1.900000e+02</td>\n",
       "      <td>3.270000e+02</td>\n",
       "      <td>5.956100e+04</td>\n",
       "    </tr>\n",
       "    <tr>\n",
       "      <th>minimum_nights</th>\n",
       "      <td>16251.0</td>\n",
       "      <td>4.692942e+00</td>\n",
       "      <td>2.891610e+01</td>\n",
       "      <td>1.00000</td>\n",
       "      <td>1.000000e+00</td>\n",
       "      <td>1.000000e+00</td>\n",
       "      <td>2.000000e+00</td>\n",
       "      <td>1.125000e+03</td>\n",
       "    </tr>\n",
       "    <tr>\n",
       "      <th>number_of_reviews</th>\n",
       "      <td>16251.0</td>\n",
       "      <td>7.186758e+00</td>\n",
       "      <td>2.143962e+01</td>\n",
       "      <td>0.00000</td>\n",
       "      <td>0.000000e+00</td>\n",
       "      <td>0.000000e+00</td>\n",
       "      <td>4.000000e+00</td>\n",
       "      <td>3.070000e+02</td>\n",
       "    </tr>\n",
       "    <tr>\n",
       "      <th>reviews_per_month</th>\n",
       "      <td>7767.0</td>\n",
       "      <td>9.147663e-01</td>\n",
       "      <td>1.086907e+00</td>\n",
       "      <td>0.01000</td>\n",
       "      <td>1.800000e-01</td>\n",
       "      <td>5.200000e-01</td>\n",
       "      <td>1.190000e+00</td>\n",
       "      <td>1.200000e+01</td>\n",
       "    </tr>\n",
       "    <tr>\n",
       "      <th>calculated_host_listings_count</th>\n",
       "      <td>16251.0</td>\n",
       "      <td>4.103809e+00</td>\n",
       "      <td>7.648227e+00</td>\n",
       "      <td>1.00000</td>\n",
       "      <td>1.000000e+00</td>\n",
       "      <td>1.000000e+00</td>\n",
       "      <td>4.000000e+00</td>\n",
       "      <td>7.700000e+01</td>\n",
       "    </tr>\n",
       "    <tr>\n",
       "      <th>availability_365</th>\n",
       "      <td>16251.0</td>\n",
       "      <td>2.494953e+02</td>\n",
       "      <td>1.361531e+02</td>\n",
       "      <td>0.00000</td>\n",
       "      <td>1.010000e+02</td>\n",
       "      <td>3.400000e+02</td>\n",
       "      <td>3.650000e+02</td>\n",
       "      <td>3.650000e+02</td>\n",
       "    </tr>\n",
       "  </tbody>\n",
       "</table>\n",
       "</div>"
      ],
      "text/plain": [
       "                                  count          mean           std  \\\n",
       "id                              16251.0  1.885640e+07  1.054805e+07   \n",
       "host_id                         16251.0  8.888706e+07  8.162114e+07   \n",
       "neighbourhood_group                 0.0           NaN           NaN   \n",
       "latitude                        16251.0  4.102646e+01  4.319838e-02   \n",
       "longitude                       16251.0  2.898539e+01  1.143578e-01   \n",
       "price                           16251.0  3.547239e+02  1.428938e+03   \n",
       "minimum_nights                  16251.0  4.692942e+00  2.891610e+01   \n",
       "number_of_reviews               16251.0  7.186758e+00  2.143962e+01   \n",
       "reviews_per_month                7767.0  9.147663e-01  1.086907e+00   \n",
       "calculated_host_listings_count  16251.0  4.103809e+00  7.648227e+00   \n",
       "availability_365                16251.0  2.494953e+02  1.361531e+02   \n",
       "\n",
       "                                       min           25%           50%  \\\n",
       "id                              4826.00000  8.500978e+06  2.161975e+07   \n",
       "host_id                         6603.00000  1.788230e+07  5.210740e+07   \n",
       "neighbourhood_group                    NaN           NaN           NaN   \n",
       "latitude                          40.81469  4.100436e+01  4.103135e+01   \n",
       "longitude                         28.03200  2.897413e+01  2.898426e+01   \n",
       "price                              0.00000  1.050000e+02  1.900000e+02   \n",
       "minimum_nights                     1.00000  1.000000e+00  1.000000e+00   \n",
       "number_of_reviews                  0.00000  0.000000e+00  0.000000e+00   \n",
       "reviews_per_month                  0.01000  1.800000e-01  5.200000e-01   \n",
       "calculated_host_listings_count     1.00000  1.000000e+00  1.000000e+00   \n",
       "availability_365                   0.00000  1.010000e+02  3.400000e+02   \n",
       "\n",
       "                                         75%           max  \n",
       "id                              2.870219e+07  3.245756e+07  \n",
       "host_id                         1.681345e+08  2.437341e+08  \n",
       "neighbourhood_group                      NaN           NaN  \n",
       "latitude                        4.104781e+01  4.141442e+01  \n",
       "longitude                       2.902245e+01  2.990778e+01  \n",
       "price                           3.270000e+02  5.956100e+04  \n",
       "minimum_nights                  2.000000e+00  1.125000e+03  \n",
       "number_of_reviews               4.000000e+00  3.070000e+02  \n",
       "reviews_per_month               1.190000e+00  1.200000e+01  \n",
       "calculated_host_listings_count  4.000000e+00  7.700000e+01  \n",
       "availability_365                3.650000e+02  3.650000e+02  "
      ]
     },
     "execution_count": 8,
     "metadata": {},
     "output_type": "execute_result"
    }
   ],
   "source": [
    "#Basic descriptive statistics for features\n",
    "airbnb.describe().T"
   ]
  },
  {
   "cell_type": "code",
   "execution_count": 9,
   "metadata": {},
   "outputs": [
    {
     "data": {
      "text/html": [
       "<div>\n",
       "<style scoped>\n",
       "    .dataframe tbody tr th:only-of-type {\n",
       "        vertical-align: middle;\n",
       "    }\n",
       "\n",
       "    .dataframe tbody tr th {\n",
       "        vertical-align: top;\n",
       "    }\n",
       "\n",
       "    .dataframe thead th {\n",
       "        text-align: right;\n",
       "    }\n",
       "</style>\n",
       "<table border=\"1\" class=\"dataframe\">\n",
       "  <thead>\n",
       "    <tr style=\"text-align: right;\">\n",
       "      <th></th>\n",
       "      <th>count</th>\n",
       "      <th>unique</th>\n",
       "      <th>top</th>\n",
       "      <th>freq</th>\n",
       "      <th>mean</th>\n",
       "      <th>std</th>\n",
       "      <th>min</th>\n",
       "      <th>25%</th>\n",
       "      <th>50%</th>\n",
       "      <th>75%</th>\n",
       "      <th>max</th>\n",
       "    </tr>\n",
       "  </thead>\n",
       "  <tbody>\n",
       "    <tr>\n",
       "      <th>id</th>\n",
       "      <td>16251</td>\n",
       "      <td>NaN</td>\n",
       "      <td>NaN</td>\n",
       "      <td>NaN</td>\n",
       "      <td>1.88564e+07</td>\n",
       "      <td>1.0548e+07</td>\n",
       "      <td>4826</td>\n",
       "      <td>8.50098e+06</td>\n",
       "      <td>2.16198e+07</td>\n",
       "      <td>2.87022e+07</td>\n",
       "      <td>3.24576e+07</td>\n",
       "    </tr>\n",
       "    <tr>\n",
       "      <th>name</th>\n",
       "      <td>16160</td>\n",
       "      <td>15493</td>\n",
       "      <td>İstanbul Birden fazla bölümden oluşan bina</td>\n",
       "      <td>46</td>\n",
       "      <td>NaN</td>\n",
       "      <td>NaN</td>\n",
       "      <td>NaN</td>\n",
       "      <td>NaN</td>\n",
       "      <td>NaN</td>\n",
       "      <td>NaN</td>\n",
       "      <td>NaN</td>\n",
       "    </tr>\n",
       "    <tr>\n",
       "      <th>host_id</th>\n",
       "      <td>16251</td>\n",
       "      <td>NaN</td>\n",
       "      <td>NaN</td>\n",
       "      <td>NaN</td>\n",
       "      <td>8.88871e+07</td>\n",
       "      <td>8.16211e+07</td>\n",
       "      <td>6603</td>\n",
       "      <td>1.78823e+07</td>\n",
       "      <td>5.21074e+07</td>\n",
       "      <td>1.68135e+08</td>\n",
       "      <td>2.43734e+08</td>\n",
       "    </tr>\n",
       "    <tr>\n",
       "      <th>host_name</th>\n",
       "      <td>16244</td>\n",
       "      <td>3797</td>\n",
       "      <td>Mehmet</td>\n",
       "      <td>220</td>\n",
       "      <td>NaN</td>\n",
       "      <td>NaN</td>\n",
       "      <td>NaN</td>\n",
       "      <td>NaN</td>\n",
       "      <td>NaN</td>\n",
       "      <td>NaN</td>\n",
       "      <td>NaN</td>\n",
       "    </tr>\n",
       "    <tr>\n",
       "      <th>neighbourhood_group</th>\n",
       "      <td>0</td>\n",
       "      <td>NaN</td>\n",
       "      <td>NaN</td>\n",
       "      <td>NaN</td>\n",
       "      <td>NaN</td>\n",
       "      <td>NaN</td>\n",
       "      <td>NaN</td>\n",
       "      <td>NaN</td>\n",
       "      <td>NaN</td>\n",
       "      <td>NaN</td>\n",
       "      <td>NaN</td>\n",
       "    </tr>\n",
       "    <tr>\n",
       "      <th>neighbourhood</th>\n",
       "      <td>16251</td>\n",
       "      <td>39</td>\n",
       "      <td>Beyoglu</td>\n",
       "      <td>4245</td>\n",
       "      <td>NaN</td>\n",
       "      <td>NaN</td>\n",
       "      <td>NaN</td>\n",
       "      <td>NaN</td>\n",
       "      <td>NaN</td>\n",
       "      <td>NaN</td>\n",
       "      <td>NaN</td>\n",
       "    </tr>\n",
       "    <tr>\n",
       "      <th>latitude</th>\n",
       "      <td>16251</td>\n",
       "      <td>NaN</td>\n",
       "      <td>NaN</td>\n",
       "      <td>NaN</td>\n",
       "      <td>41.0265</td>\n",
       "      <td>0.0431984</td>\n",
       "      <td>40.8147</td>\n",
       "      <td>41.0044</td>\n",
       "      <td>41.0314</td>\n",
       "      <td>41.0478</td>\n",
       "      <td>41.4144</td>\n",
       "    </tr>\n",
       "    <tr>\n",
       "      <th>longitude</th>\n",
       "      <td>16251</td>\n",
       "      <td>NaN</td>\n",
       "      <td>NaN</td>\n",
       "      <td>NaN</td>\n",
       "      <td>28.9854</td>\n",
       "      <td>0.114358</td>\n",
       "      <td>28.032</td>\n",
       "      <td>28.9741</td>\n",
       "      <td>28.9843</td>\n",
       "      <td>29.0224</td>\n",
       "      <td>29.9078</td>\n",
       "    </tr>\n",
       "    <tr>\n",
       "      <th>room_type</th>\n",
       "      <td>16251</td>\n",
       "      <td>3</td>\n",
       "      <td>Private room</td>\n",
       "      <td>8565</td>\n",
       "      <td>NaN</td>\n",
       "      <td>NaN</td>\n",
       "      <td>NaN</td>\n",
       "      <td>NaN</td>\n",
       "      <td>NaN</td>\n",
       "      <td>NaN</td>\n",
       "      <td>NaN</td>\n",
       "    </tr>\n",
       "    <tr>\n",
       "      <th>price</th>\n",
       "      <td>16251</td>\n",
       "      <td>NaN</td>\n",
       "      <td>NaN</td>\n",
       "      <td>NaN</td>\n",
       "      <td>354.724</td>\n",
       "      <td>1428.94</td>\n",
       "      <td>0</td>\n",
       "      <td>105</td>\n",
       "      <td>190</td>\n",
       "      <td>327</td>\n",
       "      <td>59561</td>\n",
       "    </tr>\n",
       "    <tr>\n",
       "      <th>minimum_nights</th>\n",
       "      <td>16251</td>\n",
       "      <td>NaN</td>\n",
       "      <td>NaN</td>\n",
       "      <td>NaN</td>\n",
       "      <td>4.69294</td>\n",
       "      <td>28.9161</td>\n",
       "      <td>1</td>\n",
       "      <td>1</td>\n",
       "      <td>1</td>\n",
       "      <td>2</td>\n",
       "      <td>1125</td>\n",
       "    </tr>\n",
       "    <tr>\n",
       "      <th>number_of_reviews</th>\n",
       "      <td>16251</td>\n",
       "      <td>NaN</td>\n",
       "      <td>NaN</td>\n",
       "      <td>NaN</td>\n",
       "      <td>7.18676</td>\n",
       "      <td>21.4396</td>\n",
       "      <td>0</td>\n",
       "      <td>0</td>\n",
       "      <td>0</td>\n",
       "      <td>4</td>\n",
       "      <td>307</td>\n",
       "    </tr>\n",
       "    <tr>\n",
       "      <th>last_review</th>\n",
       "      <td>7767</td>\n",
       "      <td>1160</td>\n",
       "      <td>2/10/2019</td>\n",
       "      <td>169</td>\n",
       "      <td>NaN</td>\n",
       "      <td>NaN</td>\n",
       "      <td>NaN</td>\n",
       "      <td>NaN</td>\n",
       "      <td>NaN</td>\n",
       "      <td>NaN</td>\n",
       "      <td>NaN</td>\n",
       "    </tr>\n",
       "    <tr>\n",
       "      <th>reviews_per_month</th>\n",
       "      <td>7767</td>\n",
       "      <td>NaN</td>\n",
       "      <td>NaN</td>\n",
       "      <td>NaN</td>\n",
       "      <td>0.914766</td>\n",
       "      <td>1.08691</td>\n",
       "      <td>0.01</td>\n",
       "      <td>0.18</td>\n",
       "      <td>0.52</td>\n",
       "      <td>1.19</td>\n",
       "      <td>12</td>\n",
       "    </tr>\n",
       "    <tr>\n",
       "      <th>calculated_host_listings_count</th>\n",
       "      <td>16251</td>\n",
       "      <td>NaN</td>\n",
       "      <td>NaN</td>\n",
       "      <td>NaN</td>\n",
       "      <td>4.10381</td>\n",
       "      <td>7.64823</td>\n",
       "      <td>1</td>\n",
       "      <td>1</td>\n",
       "      <td>1</td>\n",
       "      <td>4</td>\n",
       "      <td>77</td>\n",
       "    </tr>\n",
       "    <tr>\n",
       "      <th>availability_365</th>\n",
       "      <td>16251</td>\n",
       "      <td>NaN</td>\n",
       "      <td>NaN</td>\n",
       "      <td>NaN</td>\n",
       "      <td>249.495</td>\n",
       "      <td>136.153</td>\n",
       "      <td>0</td>\n",
       "      <td>101</td>\n",
       "      <td>340</td>\n",
       "      <td>365</td>\n",
       "      <td>365</td>\n",
       "    </tr>\n",
       "  </tbody>\n",
       "</table>\n",
       "</div>"
      ],
      "text/plain": [
       "                                count unique  \\\n",
       "id                              16251    NaN   \n",
       "name                            16160  15493   \n",
       "host_id                         16251    NaN   \n",
       "host_name                       16244   3797   \n",
       "neighbourhood_group                 0    NaN   \n",
       "neighbourhood                   16251     39   \n",
       "latitude                        16251    NaN   \n",
       "longitude                       16251    NaN   \n",
       "room_type                       16251      3   \n",
       "price                           16251    NaN   \n",
       "minimum_nights                  16251    NaN   \n",
       "number_of_reviews               16251    NaN   \n",
       "last_review                      7767   1160   \n",
       "reviews_per_month                7767    NaN   \n",
       "calculated_host_listings_count  16251    NaN   \n",
       "availability_365                16251    NaN   \n",
       "\n",
       "                                                                       top  \\\n",
       "id                                                                     NaN   \n",
       "name                            İstanbul Birden fazla bölümden oluşan bina   \n",
       "host_id                                                                NaN   \n",
       "host_name                                                           Mehmet   \n",
       "neighbourhood_group                                                    NaN   \n",
       "neighbourhood                                                      Beyoglu   \n",
       "latitude                                                               NaN   \n",
       "longitude                                                              NaN   \n",
       "room_type                                                     Private room   \n",
       "price                                                                  NaN   \n",
       "minimum_nights                                                         NaN   \n",
       "number_of_reviews                                                      NaN   \n",
       "last_review                                                      2/10/2019   \n",
       "reviews_per_month                                                      NaN   \n",
       "calculated_host_listings_count                                         NaN   \n",
       "availability_365                                                       NaN   \n",
       "\n",
       "                                freq         mean          std      min  \\\n",
       "id                               NaN  1.88564e+07   1.0548e+07     4826   \n",
       "name                              46          NaN          NaN      NaN   \n",
       "host_id                          NaN  8.88871e+07  8.16211e+07     6603   \n",
       "host_name                        220          NaN          NaN      NaN   \n",
       "neighbourhood_group              NaN          NaN          NaN      NaN   \n",
       "neighbourhood                   4245          NaN          NaN      NaN   \n",
       "latitude                         NaN      41.0265    0.0431984  40.8147   \n",
       "longitude                        NaN      28.9854     0.114358   28.032   \n",
       "room_type                       8565          NaN          NaN      NaN   \n",
       "price                            NaN      354.724      1428.94        0   \n",
       "minimum_nights                   NaN      4.69294      28.9161        1   \n",
       "number_of_reviews                NaN      7.18676      21.4396        0   \n",
       "last_review                      169          NaN          NaN      NaN   \n",
       "reviews_per_month                NaN     0.914766      1.08691     0.01   \n",
       "calculated_host_listings_count   NaN      4.10381      7.64823        1   \n",
       "availability_365                 NaN      249.495      136.153        0   \n",
       "\n",
       "                                        25%          50%          75%  \\\n",
       "id                              8.50098e+06  2.16198e+07  2.87022e+07   \n",
       "name                                    NaN          NaN          NaN   \n",
       "host_id                         1.78823e+07  5.21074e+07  1.68135e+08   \n",
       "host_name                               NaN          NaN          NaN   \n",
       "neighbourhood_group                     NaN          NaN          NaN   \n",
       "neighbourhood                           NaN          NaN          NaN   \n",
       "latitude                            41.0044      41.0314      41.0478   \n",
       "longitude                           28.9741      28.9843      29.0224   \n",
       "room_type                               NaN          NaN          NaN   \n",
       "price                                   105          190          327   \n",
       "minimum_nights                            1            1            2   \n",
       "number_of_reviews                         0            0            4   \n",
       "last_review                             NaN          NaN          NaN   \n",
       "reviews_per_month                      0.18         0.52         1.19   \n",
       "calculated_host_listings_count            1            1            4   \n",
       "availability_365                        101          340          365   \n",
       "\n",
       "                                        max  \n",
       "id                              3.24576e+07  \n",
       "name                                    NaN  \n",
       "host_id                         2.43734e+08  \n",
       "host_name                               NaN  \n",
       "neighbourhood_group                     NaN  \n",
       "neighbourhood                           NaN  \n",
       "latitude                            41.4144  \n",
       "longitude                           29.9078  \n",
       "room_type                               NaN  \n",
       "price                                 59561  \n",
       "minimum_nights                         1125  \n",
       "number_of_reviews                       307  \n",
       "last_review                             NaN  \n",
       "reviews_per_month                        12  \n",
       "calculated_host_listings_count           77  \n",
       "availability_365                        365  "
      ]
     },
     "execution_count": 9,
     "metadata": {},
     "output_type": "execute_result"
    }
   ],
   "source": [
    "#Slightly more detailed descriptive statistics for features\n",
    "airbnb.describe(include = \"all\").T"
   ]
  },
  {
   "cell_type": "markdown",
   "metadata": {},
   "source": [
    "***Visual analysis before data cleaning***"
   ]
  },
  {
   "cell_type": "code",
   "execution_count": 10,
   "metadata": {},
   "outputs": [
    {
     "data": {
      "image/png": "[encoded data removed]",
      "text/plain": [
       "<Figure size 432x288 with 1 Axes>"
      ]
     },
     "metadata": {
      "needs_background": "light"
     },
     "output_type": "display_data"
    }
   ],
   "source": [
    "#Relationship of room type to pricing\n",
    "sns.scatterplot(x = \"room_type\", y = \"price\", data = airbnb);"
   ]
  },
  {
   "cell_type": "code",
   "execution_count": 11,
   "metadata": {},
   "outputs": [
    {
     "data": {
      "image/png": "[encoded data removed]",
      "text/plain": [
       "<Figure size 432x288 with 1 Axes>"
      ]
     },
     "metadata": {
      "needs_background": "light"
     },
     "output_type": "display_data"
    }
   ],
   "source": [
    "#Investigation of the number of reviews with the neighborhood according to room types\n",
    "sns.scatterplot(x = \"number_of_reviews\", y = \"neighbourhood\", hue = \"room_type\", style = \"room_type\", data = airbnb);\n",
    "#sns.plt.ylim(0,20)\n",
    "#sns.plt.xlim(0,None)"
   ]
  },
  {
   "cell_type": "code",
   "execution_count": 12,
   "metadata": {},
   "outputs": [
    {
     "data": {
      "image/png": "[encoded data removed]",
      "text/plain": [
       "<Figure size 432x288 with 1 Axes>"
      ]
     },
     "metadata": {
      "needs_background": "light"
     },
     "output_type": "display_data"
    }
   ],
   "source": [
    "#Investigation of the price with the neighborhood according to room types\n",
    "sns.scatterplot(x = \"price\", y = \"neighbourhood\", hue = \"room_type\", style = \"room_type\", data = airbnb);"
   ]
  },
  {
   "cell_type": "code",
   "execution_count": 13,
   "metadata": {},
   "outputs": [
    {
     "data": {
      "image/png": "[encoded data removed]",
      "text/plain": [
       "<Figure size 360x360 with 1 Axes>"
      ]
     },
     "metadata": {
      "needs_background": "light"
     },
     "output_type": "display_data"
    }
   ],
   "source": [
    "#The relationship between the number of reviews and airbnb's availibility in a year\n",
    "sns.lmplot(x = \"availability_365\", y = \"number_of_reviews\", data = airbnb);"
   ]
  },
  {
   "cell_type": "code",
   "execution_count": 14,
   "metadata": {},
   "outputs": [
    {
     "data": {
      "text/html": [
       "<div>\n",
       "<style scoped>\n",
       "    .dataframe tbody tr th:only-of-type {\n",
       "        vertical-align: middle;\n",
       "    }\n",
       "\n",
       "    .dataframe tbody tr th {\n",
       "        vertical-align: top;\n",
       "    }\n",
       "\n",
       "    .dataframe thead th {\n",
       "        text-align: right;\n",
       "    }\n",
       "</style>\n",
       "<table border=\"1\" class=\"dataframe\">\n",
       "  <thead>\n",
       "    <tr style=\"text-align: right;\">\n",
       "      <th></th>\n",
       "      <th>id</th>\n",
       "      <th>host_id</th>\n",
       "      <th>neighbourhood_group</th>\n",
       "      <th>latitude</th>\n",
       "      <th>longitude</th>\n",
       "      <th>price</th>\n",
       "      <th>minimum_nights</th>\n",
       "      <th>number_of_reviews</th>\n",
       "      <th>reviews_per_month</th>\n",
       "      <th>calculated_host_listings_count</th>\n",
       "      <th>availability_365</th>\n",
       "    </tr>\n",
       "  </thead>\n",
       "  <tbody>\n",
       "    <tr>\n",
       "      <th>id</th>\n",
       "      <td>1.000000</td>\n",
       "      <td>0.679662</td>\n",
       "      <td>NaN</td>\n",
       "      <td>-0.021689</td>\n",
       "      <td>-0.025538</td>\n",
       "      <td>0.005983</td>\n",
       "      <td>-0.025142</td>\n",
       "      <td>-0.269707</td>\n",
       "      <td>0.269992</td>\n",
       "      <td>-0.030279</td>\n",
       "      <td>-0.169436</td>\n",
       "    </tr>\n",
       "    <tr>\n",
       "      <th>host_id</th>\n",
       "      <td>0.679662</td>\n",
       "      <td>1.000000</td>\n",
       "      <td>NaN</td>\n",
       "      <td>-0.014529</td>\n",
       "      <td>-0.058144</td>\n",
       "      <td>0.009993</td>\n",
       "      <td>-0.027572</td>\n",
       "      <td>-0.205073</td>\n",
       "      <td>0.147374</td>\n",
       "      <td>-0.103338</td>\n",
       "      <td>-0.123720</td>\n",
       "    </tr>\n",
       "    <tr>\n",
       "      <th>neighbourhood_group</th>\n",
       "      <td>NaN</td>\n",
       "      <td>NaN</td>\n",
       "      <td>NaN</td>\n",
       "      <td>NaN</td>\n",
       "      <td>NaN</td>\n",
       "      <td>NaN</td>\n",
       "      <td>NaN</td>\n",
       "      <td>NaN</td>\n",
       "      <td>NaN</td>\n",
       "      <td>NaN</td>\n",
       "      <td>NaN</td>\n",
       "    </tr>\n",
       "    <tr>\n",
       "      <th>latitude</th>\n",
       "      <td>-0.021689</td>\n",
       "      <td>-0.014529</td>\n",
       "      <td>NaN</td>\n",
       "      <td>1.000000</td>\n",
       "      <td>-0.184363</td>\n",
       "      <td>0.032536</td>\n",
       "      <td>0.006076</td>\n",
       "      <td>-0.025143</td>\n",
       "      <td>-0.039408</td>\n",
       "      <td>0.001483</td>\n",
       "      <td>-0.001116</td>\n",
       "    </tr>\n",
       "    <tr>\n",
       "      <th>longitude</th>\n",
       "      <td>-0.025538</td>\n",
       "      <td>-0.058144</td>\n",
       "      <td>NaN</td>\n",
       "      <td>-0.184363</td>\n",
       "      <td>1.000000</td>\n",
       "      <td>-0.022089</td>\n",
       "      <td>-0.006377</td>\n",
       "      <td>-0.001883</td>\n",
       "      <td>-0.015978</td>\n",
       "      <td>-0.033867</td>\n",
       "      <td>-0.034483</td>\n",
       "    </tr>\n",
       "    <tr>\n",
       "      <th>price</th>\n",
       "      <td>0.005983</td>\n",
       "      <td>0.009993</td>\n",
       "      <td>NaN</td>\n",
       "      <td>0.032536</td>\n",
       "      <td>-0.022089</td>\n",
       "      <td>1.000000</td>\n",
       "      <td>0.016585</td>\n",
       "      <td>-0.019262</td>\n",
       "      <td>-0.032012</td>\n",
       "      <td>0.030100</td>\n",
       "      <td>0.047015</td>\n",
       "    </tr>\n",
       "    <tr>\n",
       "      <th>minimum_nights</th>\n",
       "      <td>-0.025142</td>\n",
       "      <td>-0.027572</td>\n",
       "      <td>NaN</td>\n",
       "      <td>0.006076</td>\n",
       "      <td>-0.006377</td>\n",
       "      <td>0.016585</td>\n",
       "      <td>1.000000</td>\n",
       "      <td>-0.015149</td>\n",
       "      <td>-0.036223</td>\n",
       "      <td>-0.020916</td>\n",
       "      <td>0.015297</td>\n",
       "    </tr>\n",
       "    <tr>\n",
       "      <th>number_of_reviews</th>\n",
       "      <td>-0.269707</td>\n",
       "      <td>-0.205073</td>\n",
       "      <td>NaN</td>\n",
       "      <td>-0.025143</td>\n",
       "      <td>-0.001883</td>\n",
       "      <td>-0.019262</td>\n",
       "      <td>-0.015149</td>\n",
       "      <td>1.000000</td>\n",
       "      <td>0.496183</td>\n",
       "      <td>0.174663</td>\n",
       "      <td>0.043230</td>\n",
       "    </tr>\n",
       "    <tr>\n",
       "      <th>reviews_per_month</th>\n",
       "      <td>0.269992</td>\n",
       "      <td>0.147374</td>\n",
       "      <td>NaN</td>\n",
       "      <td>-0.039408</td>\n",
       "      <td>-0.015978</td>\n",
       "      <td>-0.032012</td>\n",
       "      <td>-0.036223</td>\n",
       "      <td>0.496183</td>\n",
       "      <td>1.000000</td>\n",
       "      <td>0.051228</td>\n",
       "      <td>-0.063728</td>\n",
       "    </tr>\n",
       "    <tr>\n",
       "      <th>calculated_host_listings_count</th>\n",
       "      <td>-0.030279</td>\n",
       "      <td>-0.103338</td>\n",
       "      <td>NaN</td>\n",
       "      <td>0.001483</td>\n",
       "      <td>-0.033867</td>\n",
       "      <td>0.030100</td>\n",
       "      <td>-0.020916</td>\n",
       "      <td>0.174663</td>\n",
       "      <td>0.051228</td>\n",
       "      <td>1.000000</td>\n",
       "      <td>0.173068</td>\n",
       "    </tr>\n",
       "    <tr>\n",
       "      <th>availability_365</th>\n",
       "      <td>-0.169436</td>\n",
       "      <td>-0.123720</td>\n",
       "      <td>NaN</td>\n",
       "      <td>-0.001116</td>\n",
       "      <td>-0.034483</td>\n",
       "      <td>0.047015</td>\n",
       "      <td>0.015297</td>\n",
       "      <td>0.043230</td>\n",
       "      <td>-0.063728</td>\n",
       "      <td>0.173068</td>\n",
       "      <td>1.000000</td>\n",
       "    </tr>\n",
       "  </tbody>\n",
       "</table>\n",
       "</div>"
      ],
      "text/plain": [
       "                                      id   host_id  neighbourhood_group  \\\n",
       "id                              1.000000  0.679662                  NaN   \n",
       "host_id                         0.679662  1.000000                  NaN   \n",
       "neighbourhood_group                  NaN       NaN                  NaN   \n",
       "latitude                       -0.021689 -0.014529                  NaN   \n",
       "longitude                      -0.025538 -0.058144                  NaN   \n",
       "price                           0.005983  0.009993                  NaN   \n",
       "minimum_nights                 -0.025142 -0.027572                  NaN   \n",
       "number_of_reviews              -0.269707 -0.205073                  NaN   \n",
       "reviews_per_month               0.269992  0.147374                  NaN   \n",
       "calculated_host_listings_count -0.030279 -0.103338                  NaN   \n",
       "availability_365               -0.169436 -0.123720                  NaN   \n",
       "\n",
       "                                latitude  longitude     price  minimum_nights  \\\n",
       "id                             -0.021689  -0.025538  0.005983       -0.025142   \n",
       "host_id                        -0.014529  -0.058144  0.009993       -0.027572   \n",
       "neighbourhood_group                  NaN        NaN       NaN             NaN   \n",
       "latitude                        1.000000  -0.184363  0.032536        0.006076   \n",
       "longitude                      -0.184363   1.000000 -0.022089       -0.006377   \n",
       "price                           0.032536  -0.022089  1.000000        0.016585   \n",
       "minimum_nights                  0.006076  -0.006377  0.016585        1.000000   \n",
       "number_of_reviews              -0.025143  -0.001883 -0.019262       -0.015149   \n",
       "reviews_per_month              -0.039408  -0.015978 -0.032012       -0.036223   \n",
       "calculated_host_listings_count  0.001483  -0.033867  0.030100       -0.020916   \n",
       "availability_365               -0.001116  -0.034483  0.047015        0.015297   \n",
       "\n",
       "                                number_of_reviews  reviews_per_month  \\\n",
       "id                                      -0.269707           0.269992   \n",
       "host_id                                 -0.205073           0.147374   \n",
       "neighbourhood_group                           NaN                NaN   \n",
       "latitude                                -0.025143          -0.039408   \n",
       "longitude                               -0.001883          -0.015978   \n",
       "price                                   -0.019262          -0.032012   \n",
       "minimum_nights                          -0.015149          -0.036223   \n",
       "number_of_reviews                        1.000000           0.496183   \n",
       "reviews_per_month                        0.496183           1.000000   \n",
       "calculated_host_listings_count           0.174663           0.051228   \n",
       "availability_365                         0.043230          -0.063728   \n",
       "\n",
       "                                calculated_host_listings_count  \\\n",
       "id                                                   -0.030279   \n",
       "host_id                                              -0.103338   \n",
       "neighbourhood_group                                        NaN   \n",
       "latitude                                              0.001483   \n",
       "longitude                                            -0.033867   \n",
       "price                                                 0.030100   \n",
       "minimum_nights                                       -0.020916   \n",
       "number_of_reviews                                     0.174663   \n",
       "reviews_per_month                                     0.051228   \n",
       "calculated_host_listings_count                        1.000000   \n",
       "availability_365                                      0.173068   \n",
       "\n",
       "                                availability_365  \n",
       "id                                     -0.169436  \n",
       "host_id                                -0.123720  \n",
       "neighbourhood_group                          NaN  \n",
       "latitude                               -0.001116  \n",
       "longitude                              -0.034483  \n",
       "price                                   0.047015  \n",
       "minimum_nights                          0.015297  \n",
       "number_of_reviews                       0.043230  \n",
       "reviews_per_month                      -0.063728  \n",
       "calculated_host_listings_count          0.173068  \n",
       "availability_365                        1.000000  "
      ]
     },
     "execution_count": 14,
     "metadata": {},
     "output_type": "execute_result"
    }
   ],
   "source": [
    "#Relationships of features with each other by correlation\n",
    "airbnb.corr()"
   ]
  },
  {
   "cell_type": "code",
   "execution_count": 15,
   "metadata": {},
   "outputs": [
    {
     "data": {
      "image/png": "[encoded data removed]",
      "text/plain": [
       "<Figure size 432x288 with 2 Axes>"
      ]
     },
     "metadata": {
      "needs_background": "light"
     },
     "output_type": "display_data"
    }
   ],
   "source": [
    "#Visual representation of the properties' relationships with each other by correlation\n",
    "corr=airbnb.corr()\n",
    "h=sns.heatmap(corr,vmin=-1,vmax=1,center=0,cmap=sns.diverging_palette(20,220,n=200),square=True)"
   ]
  },
  {
   "cell_type": "code",
   "execution_count": 16,
   "metadata": {},
   "outputs": [
    {
     "data": {
      "text/plain": [
       "Text(0, 0.5, 'Number of Listings')"
      ]
     },
     "execution_count": 16,
     "metadata": {},
     "output_type": "execute_result"
    },
    {
     "data": {
      "image/png": "[encoded data removed]",
      "text/plain": [
       "<Figure size 432x288 with 1 Axes>"
      ]
     },
     "metadata": {
      "needs_background": "light"
     },
     "output_type": "display_data"
    }
   ],
   "source": [
    "#The number of Airbnb lists by hosts with ids (for top 10 observation)\n",
    "chart_host = airbnb[\"host_id\"].value_counts().head(10).plot.bar()\n",
    "chart_host.set_title(\" Hosts with Most Listings\")\n",
    "chart_host.set_xlabel(\"Host ID\")\n",
    "chart_host.set_ylabel(\"Number of Listings\")"
   ]
  },
  {
   "cell_type": "code",
   "execution_count": 17,
   "metadata": {},
   "outputs": [
    {
     "data": {
      "text/plain": [
       "Text(0.5, 1.0, 'Average Price of Host IDs')"
      ]
     },
     "execution_count": 17,
     "metadata": {},
     "output_type": "execute_result"
    },
    {
     "data": {
      "image/png": "[encoded data removed]",
      "text/plain": [
       "<Figure size 432x288 with 1 Axes>"
      ]
     },
     "metadata": {
      "needs_background": "light"
     },
     "output_type": "display_data"
    }
   ],
   "source": [
    "#Average price by host_id (for top 10 observation)\n",
    "neighbourhood_price = airbnb.groupby(\"host_id\")[\"price\"].agg(['mean']) \n",
    "chart_avg_price = neighbourhood_price.sort_values(by='mean', ascending=False).head(10).plot.bar()\n",
    "chart_avg_price.set_ylabel('Price TRY')\n",
    "chart_avg_price.set_xlabel('Host ID')\n",
    "chart_avg_price.set_title(\"Average Price of Host IDs\")"
   ]
  },
  {
   "cell_type": "code",
   "execution_count": 18,
   "metadata": {},
   "outputs": [
    {
     "data": {
      "text/plain": [
       "Text(0, 0.5, 'Number of Listings')"
      ]
     },
     "execution_count": 18,
     "metadata": {},
     "output_type": "execute_result"
    },
    {
     "data": {
      "image/png": "[encoded data removed]",
      "text/plain": [
       "<Figure size 432x288 with 1 Axes>"
      ]
     },
     "metadata": {
      "needs_background": "light"
     },
     "output_type": "display_data"
    }
   ],
   "source": [
    "#The number of Airbnb lists by neighbourhoods (for top 10 observation)\n",
    "chart_neighbourhoods = airbnb[\"neighbourhood\"].value_counts().head(10).plot.bar()\n",
    "chart_neighbourhoods.set_title(\" Neighbourhoods with Most Listings\")\n",
    "chart_neighbourhoods.set_xlabel(\"Neighbourhoods\")\n",
    "chart_neighbourhoods.set_ylabel(\"Number of Listings\")"
   ]
  },
  {
   "cell_type": "code",
   "execution_count": 19,
   "metadata": {},
   "outputs": [
    {
     "data": {
      "text/plain": [
       "Text(0.5, 1.0, 'Average Price of Neighbourhoods')"
      ]
     },
     "execution_count": 19,
     "metadata": {},
     "output_type": "execute_result"
    },
    {
     "data": {
      "image/png": "[encoded data removed]",
      "text/plain": [
       "<Figure size 432x288 with 1 Axes>"
      ]
     },
     "metadata": {
      "needs_background": "light"
     },
     "output_type": "display_data"
    }
   ],
   "source": [
    "#Average price by neighborhood (for top 10 observation)\n",
    "neighbourhood_price = airbnb.groupby(\"neighbourhood\")[\"price\"].agg(['mean']) \n",
    "chart_avg_price = neighbourhood_price.sort_values(by='mean', ascending=False).head(10).plot.bar()\n",
    "chart_avg_price.set_ylabel('Price TRY')\n",
    "chart_avg_price.set_xlabel('Neighbourhoods')\n",
    "chart_avg_price.set_title(\"Average Price of Neighbourhoods\")"
   ]
  },
  {
   "cell_type": "markdown",
   "metadata": {},
   "source": [
    "***Examination of Missing Data***"
   ]
  },
  {
   "cell_type": "code",
   "execution_count": 20,
   "metadata": {},
   "outputs": [
    {
     "data": {
      "text/plain": [
       "True"
      ]
     },
     "execution_count": 20,
     "metadata": {},
     "output_type": "execute_result"
    }
   ],
   "source": [
    "#Are there any missing observations (values)\n",
    "airbnb.isnull().values.any()"
   ]
  },
  {
   "cell_type": "code",
   "execution_count": 21,
   "metadata": {},
   "outputs": [
    {
     "data": {
      "text/plain": [
       "id                                    0\n",
       "name                                 91\n",
       "host_id                               0\n",
       "host_name                             7\n",
       "neighbourhood_group               16251\n",
       "neighbourhood                         0\n",
       "latitude                              0\n",
       "longitude                             0\n",
       "room_type                             0\n",
       "price                                 0\n",
       "minimum_nights                        0\n",
       "number_of_reviews                     0\n",
       "last_review                        8484\n",
       "reviews_per_month                  8484\n",
       "calculated_host_listings_count        0\n",
       "availability_365                      0\n",
       "dtype: int64"
      ]
     },
     "execution_count": 21,
     "metadata": {},
     "output_type": "execute_result"
    }
   ],
   "source": [
    "#In which variable how many\n",
    "airbnb.isnull().sum()"
   ]
  },
  {
   "cell_type": "code",
   "execution_count": 22,
   "metadata": {},
   "outputs": [
    {
     "data": {
      "text/plain": [
       "<matplotlib.axes._subplots.AxesSubplot at 0x1f2a314f610>"
      ]
     },
     "execution_count": 22,
     "metadata": {},
     "output_type": "execute_result"
    },
    {
     "data": {
      "image/png": "[encoded data removed]",
      "text/plain": [
       "<Figure size 432x288 with 1 Axes>"
      ]
     },
     "metadata": {
      "needs_background": "light"
     },
     "output_type": "display_data"
    }
   ],
   "source": [
    "#Some features have missing data:\n",
    "sns.heatmap(airbnb.isnull(), yticklabels = False, cbar = False)\n",
    "#White color indicates missing values"
   ]
  },
  {
   "cell_type": "markdown",
   "metadata": {},
   "source": [
    "***Data Cleaning***"
   ]
  },
  {
   "cell_type": "markdown",
   "metadata": {},
   "source": [
    "***Empty columns according to the results from heatmap should be dropped***"
   ]
  },
  {
   "cell_type": "code",
   "execution_count": 23,
   "metadata": {},
   "outputs": [],
   "source": [
    "airbnb.drop('neighbourhood_group',axis=1,inplace=True)"
   ]
  },
  {
   "cell_type": "markdown",
   "metadata": {},
   "source": [
    "***Some unnecessary features should also be dropped***"
   ]
  },
  {
   "cell_type": "code",
   "execution_count": 24,
   "metadata": {},
   "outputs": [],
   "source": [
    "airbnb.drop('last_review',axis=1,inplace=True)"
   ]
  },
  {
   "cell_type": "code",
   "execution_count": 25,
   "metadata": {},
   "outputs": [
    {
     "data": {
      "text/plain": [
       "Index(['id', 'name', 'host_id', 'host_name', 'neighbourhood', 'latitude',\n",
       "       'longitude', 'room_type', 'price', 'minimum_nights',\n",
       "       'number_of_reviews', 'reviews_per_month',\n",
       "       'calculated_host_listings_count', 'availability_365'],\n",
       "      dtype='object')"
      ]
     },
     "execution_count": 25,
     "metadata": {},
     "output_type": "execute_result"
    }
   ],
   "source": [
    "#Checking drop process\n",
    "airbnb.columns"
   ]
  },
  {
   "cell_type": "markdown",
   "metadata": {},
   "source": [
    "***Features containing some missing data should be corrected***"
   ]
  },
  {
   "cell_type": "code",
   "execution_count": 26,
   "metadata": {},
   "outputs": [
    {
     "name": "stdout",
     "output_type": "stream",
     "text": [
      "<class 'pandas.core.frame.DataFrame'>\n",
      "RangeIndex: 16251 entries, 0 to 16250\n",
      "Data columns (total 14 columns):\n",
      " #   Column                          Non-Null Count  Dtype  \n",
      "---  ------                          --------------  -----  \n",
      " 0   id                              16251 non-null  int64  \n",
      " 1   name                            16160 non-null  object \n",
      " 2   host_id                         16251 non-null  int64  \n",
      " 3   host_name                       16244 non-null  object \n",
      " 4   neighbourhood                   16251 non-null  object \n",
      " 5   latitude                        16251 non-null  float64\n",
      " 6   longitude                       16251 non-null  float64\n",
      " 7   room_type                       16251 non-null  object \n",
      " 8   price                           16251 non-null  int64  \n",
      " 9   minimum_nights                  16251 non-null  int64  \n",
      " 10  number_of_reviews               16251 non-null  int64  \n",
      " 11  reviews_per_month               7767 non-null   float64\n",
      " 12  calculated_host_listings_count  16251 non-null  int64  \n",
      " 13  availability_365                16251 non-null  int64  \n",
      "dtypes: float64(3), int64(7), object(4)\n",
      "memory usage: 1.7+ MB\n",
      "\n",
      "\n"
     ]
    },
    {
     "data": {
      "text/plain": [
       "id                                   0\n",
       "name                                91\n",
       "host_id                              0\n",
       "host_name                            7\n",
       "neighbourhood                        0\n",
       "latitude                             0\n",
       "longitude                            0\n",
       "room_type                            0\n",
       "price                                0\n",
       "minimum_nights                       0\n",
       "number_of_reviews                    0\n",
       "reviews_per_month                 8484\n",
       "calculated_host_listings_count       0\n",
       "availability_365                     0\n",
       "dtype: int64"
      ]
     },
     "execution_count": 26,
     "metadata": {},
     "output_type": "execute_result"
    }
   ],
   "source": [
    "airbnb.info()\n",
    "print(\"\\n\")\n",
    "airbnb.isnull().sum()"
   ]
  },
  {
   "cell_type": "code",
   "execution_count": 27,
   "metadata": {},
   "outputs": [
    {
     "data": {
      "text/plain": [
       "<matplotlib.axes._subplots.AxesSubplot at 0x1f2a3154f70>"
      ]
     },
     "execution_count": 27,
     "metadata": {},
     "output_type": "execute_result"
    },
    {
     "data": {
      "image/png": "[encoded data removed]",
      "text/plain": [
       "<Figure size 432x288 with 1 Axes>"
      ]
     },
     "metadata": {
      "needs_background": "light"
     },
     "output_type": "display_data"
    }
   ],
   "source": [
    "sns.heatmap(airbnb.isnull(), yticklabels = False, cbar = False)"
   ]
  },
  {
   "cell_type": "code",
   "execution_count": 28,
   "metadata": {},
   "outputs": [],
   "source": [
    "#Correction function of reviews_per_month data \n",
    "def impute_reviews_per_month(cols):\n",
    "    reviews = cols[0]\n",
    "      \n",
    "    if pd.isnull(reviews):\n",
    "        return 0 #that means it has never been examined\n",
    "    else:\n",
    "        return reviews"
   ]
  },
  {
   "cell_type": "code",
   "execution_count": 29,
   "metadata": {},
   "outputs": [],
   "source": [
    "#Function call for impute_reviews_per_month\n",
    "airbnb['reviews_per_month']=airbnb[['reviews_per_month']].apply(impute_reviews_per_month, axis =1 )"
   ]
  },
  {
   "cell_type": "code",
   "execution_count": 30,
   "metadata": {},
   "outputs": [
    {
     "data": {
      "text/plain": [
       "<matplotlib.axes._subplots.AxesSubplot at 0x1f2a1c9d2b0>"
      ]
     },
     "execution_count": 30,
     "metadata": {},
     "output_type": "execute_result"
    },
    {
     "data": {
      "image/png": "[encoded data removed]",
      "text/plain": [
       "<Figure size 432x288 with 1 Axes>"
      ]
     },
     "metadata": {
      "needs_background": "light"
     },
     "output_type": "display_data"
    }
   ],
   "source": [
    "sns.heatmap(airbnb.isnull(), yticklabels = False, cbar = False)"
   ]
  },
  {
   "cell_type": "code",
   "execution_count": 31,
   "metadata": {},
   "outputs": [
    {
     "name": "stdout",
     "output_type": "stream",
     "text": [
      "<class 'pandas.core.frame.DataFrame'>\n",
      "RangeIndex: 16251 entries, 0 to 16250\n",
      "Data columns (total 14 columns):\n",
      " #   Column                          Non-Null Count  Dtype  \n",
      "---  ------                          --------------  -----  \n",
      " 0   id                              16251 non-null  int64  \n",
      " 1   name                            16160 non-null  object \n",
      " 2   host_id                         16251 non-null  int64  \n",
      " 3   host_name                       16244 non-null  object \n",
      " 4   neighbourhood                   16251 non-null  object \n",
      " 5   latitude                        16251 non-null  float64\n",
      " 6   longitude                       16251 non-null  float64\n",
      " 7   room_type                       16251 non-null  object \n",
      " 8   price                           16251 non-null  int64  \n",
      " 9   minimum_nights                  16251 non-null  int64  \n",
      " 10  number_of_reviews               16251 non-null  int64  \n",
      " 11  reviews_per_month               16251 non-null  float64\n",
      " 12  calculated_host_listings_count  16251 non-null  int64  \n",
      " 13  availability_365                16251 non-null  int64  \n",
      "dtypes: float64(3), int64(7), object(4)\n",
      "memory usage: 1.7+ MB\n"
     ]
    }
   ],
   "source": [
    "#Checking results\n",
    "airbnb.info()"
   ]
  },
  {
   "cell_type": "code",
   "execution_count": 32,
   "metadata": {},
   "outputs": [],
   "source": [
    "#Correction for missing data in name\n",
    "airbnb.dropna(inplace = True)"
   ]
  },
  {
   "cell_type": "code",
   "execution_count": 33,
   "metadata": {},
   "outputs": [
    {
     "data": {
      "text/plain": [
       "<matplotlib.axes._subplots.AxesSubplot at 0x1f2a1e34b80>"
      ]
     },
     "execution_count": 33,
     "metadata": {},
     "output_type": "execute_result"
    },
    {
     "data": {
      "image/png": "[encoded data removed]",
      "text/plain": [
       "<Figure size 432x288 with 1 Axes>"
      ]
     },
     "metadata": {
      "needs_background": "light"
     },
     "output_type": "display_data"
    }
   ],
   "source": [
    "sns.heatmap(airbnb.isnull(), yticklabels = False, cbar = False)"
   ]
  },
  {
   "cell_type": "code",
   "execution_count": 34,
   "metadata": {},
   "outputs": [
    {
     "name": "stdout",
     "output_type": "stream",
     "text": [
      "<class 'pandas.core.frame.DataFrame'>\n",
      "Int64Index: 16155 entries, 0 to 16250\n",
      "Data columns (total 14 columns):\n",
      " #   Column                          Non-Null Count  Dtype  \n",
      "---  ------                          --------------  -----  \n",
      " 0   id                              16155 non-null  int64  \n",
      " 1   name                            16155 non-null  object \n",
      " 2   host_id                         16155 non-null  int64  \n",
      " 3   host_name                       16155 non-null  object \n",
      " 4   neighbourhood                   16155 non-null  object \n",
      " 5   latitude                        16155 non-null  float64\n",
      " 6   longitude                       16155 non-null  float64\n",
      " 7   room_type                       16155 non-null  object \n",
      " 8   price                           16155 non-null  int64  \n",
      " 9   minimum_nights                  16155 non-null  int64  \n",
      " 10  number_of_reviews               16155 non-null  int64  \n",
      " 11  reviews_per_month               16155 non-null  float64\n",
      " 12  calculated_host_listings_count  16155 non-null  int64  \n",
      " 13  availability_365                16155 non-null  int64  \n",
      "dtypes: float64(3), int64(7), object(4)\n",
      "memory usage: 1.8+ MB\n"
     ]
    }
   ],
   "source": [
    "#Checking results\n",
    "airbnb.info()"
   ]
  },
  {
   "cell_type": "markdown",
   "metadata": {},
   "source": [
    "***Categorical Features***"
   ]
  },
  {
   "cell_type": "code",
   "execution_count": 35,
   "metadata": {},
   "outputs": [
    {
     "data": {
      "text/html": [
       "<div>\n",
       "<style scoped>\n",
       "    .dataframe tbody tr th:only-of-type {\n",
       "        vertical-align: middle;\n",
       "    }\n",
       "\n",
       "    .dataframe tbody tr th {\n",
       "        vertical-align: top;\n",
       "    }\n",
       "\n",
       "    .dataframe thead th {\n",
       "        text-align: right;\n",
       "    }\n",
       "</style>\n",
       "<table border=\"1\" class=\"dataframe\">\n",
       "  <thead>\n",
       "    <tr style=\"text-align: right;\">\n",
       "      <th></th>\n",
       "      <th>name</th>\n",
       "      <th>host_name</th>\n",
       "      <th>neighbourhood</th>\n",
       "      <th>room_type</th>\n",
       "    </tr>\n",
       "  </thead>\n",
       "  <tbody>\n",
       "    <tr>\n",
       "      <th>0</th>\n",
       "      <td>The Place</td>\n",
       "      <td>Kaan</td>\n",
       "      <td>Uskudar</td>\n",
       "      <td>Entire home/apt</td>\n",
       "    </tr>\n",
       "    <tr>\n",
       "      <th>1</th>\n",
       "      <td>The Bosphorus from The Comfy Hill</td>\n",
       "      <td>Gülder</td>\n",
       "      <td>Besiktas</td>\n",
       "      <td>Entire home/apt</td>\n",
       "    </tr>\n",
       "    <tr>\n",
       "      <th>2</th>\n",
       "      <td>House for vacation rental furnutare</td>\n",
       "      <td>Yesim</td>\n",
       "      <td>Besiktas</td>\n",
       "      <td>Entire home/apt</td>\n",
       "    </tr>\n",
       "    <tr>\n",
       "      <th>3</th>\n",
       "      <td>LOVELY APT. IN PERFECT LOCATION</td>\n",
       "      <td>Mutlu</td>\n",
       "      <td>Beyoglu</td>\n",
       "      <td>Entire home/apt</td>\n",
       "    </tr>\n",
       "    <tr>\n",
       "      <th>4</th>\n",
       "      <td>Duplex Apartment with Terrace</td>\n",
       "      <td>Alen</td>\n",
       "      <td>Sisli</td>\n",
       "      <td>Entire home/apt</td>\n",
       "    </tr>\n",
       "  </tbody>\n",
       "</table>\n",
       "</div>"
      ],
      "text/plain": [
       "                                  name host_name neighbourhood  \\\n",
       "0                            The Place      Kaan       Uskudar   \n",
       "1    The Bosphorus from The Comfy Hill    Gülder      Besiktas   \n",
       "2  House for vacation rental furnutare     Yesim      Besiktas   \n",
       "3      LOVELY APT. IN PERFECT LOCATION     Mutlu       Beyoglu   \n",
       "4       Duplex Apartment with Terrace       Alen         Sisli   \n",
       "\n",
       "         room_type  \n",
       "0  Entire home/apt  \n",
       "1  Entire home/apt  \n",
       "2  Entire home/apt  \n",
       "3  Entire home/apt  \n",
       "4  Entire home/apt  "
      ]
     },
     "execution_count": 35,
     "metadata": {},
     "output_type": "execute_result"
    }
   ],
   "source": [
    "#Selecting categorical data\n",
    "a=airbnb.copy()\n",
    "categorical_a = a.select_dtypes(include = [\"object\"])\n",
    "categorical_a.head(5)"
   ]
  },
  {
   "cell_type": "code",
   "execution_count": 36,
   "metadata": {
    "scrolled": true
   },
   "outputs": [
    {
     "data": {
      "text/html": [
       "<div>\n",
       "<style scoped>\n",
       "    .dataframe tbody tr th:only-of-type {\n",
       "        vertical-align: middle;\n",
       "    }\n",
       "\n",
       "    .dataframe tbody tr th {\n",
       "        vertical-align: top;\n",
       "    }\n",
       "\n",
       "    .dataframe thead th {\n",
       "        text-align: right;\n",
       "    }\n",
       "</style>\n",
       "<table border=\"1\" class=\"dataframe\">\n",
       "  <thead>\n",
       "    <tr style=\"text-align: right;\">\n",
       "      <th></th>\n",
       "      <th>name</th>\n",
       "      <th>host_name</th>\n",
       "      <th>neighbourhood</th>\n",
       "      <th>room_type</th>\n",
       "    </tr>\n",
       "  </thead>\n",
       "  <tbody>\n",
       "    <tr>\n",
       "      <th>16246</th>\n",
       "      <td>Best place of town</td>\n",
       "      <td>Antonio</td>\n",
       "      <td>Sisli</td>\n",
       "      <td>Entire home/apt</td>\n",
       "    </tr>\n",
       "    <tr>\n",
       "      <th>16247</th>\n",
       "      <td>luxury flat in city center atiye str nisantası</td>\n",
       "      <td>Antonio</td>\n",
       "      <td>Sisli</td>\n",
       "      <td>Entire home/apt</td>\n",
       "    </tr>\n",
       "    <tr>\n",
       "      <th>16248</th>\n",
       "      <td>Double Room</td>\n",
       "      <td>Saladin</td>\n",
       "      <td>Fatih</td>\n",
       "      <td>Private room</td>\n",
       "    </tr>\n",
       "    <tr>\n",
       "      <th>16249</th>\n",
       "      <td>Cozy room in charming home at the heart of Bey...</td>\n",
       "      <td>Pelin</td>\n",
       "      <td>Beyoglu</td>\n",
       "      <td>Private room</td>\n",
       "    </tr>\n",
       "    <tr>\n",
       "      <th>16250</th>\n",
       "      <td>Perfect view with comfortable room</td>\n",
       "      <td>Uğur</td>\n",
       "      <td>Kadikoy</td>\n",
       "      <td>Private room</td>\n",
       "    </tr>\n",
       "  </tbody>\n",
       "</table>\n",
       "</div>"
      ],
      "text/plain": [
       "                                                    name host_name  \\\n",
       "16246                                 Best place of town   Antonio   \n",
       "16247     luxury flat in city center atiye str nisantası   Antonio   \n",
       "16248                                        Double Room   Saladin   \n",
       "16249  Cozy room in charming home at the heart of Bey...     Pelin   \n",
       "16250                 Perfect view with comfortable room      Uğur   \n",
       "\n",
       "      neighbourhood        room_type  \n",
       "16246         Sisli  Entire home/apt  \n",
       "16247         Sisli  Entire home/apt  \n",
       "16248         Fatih     Private room  \n",
       "16249       Beyoglu     Private room  \n",
       "16250       Kadikoy     Private room  "
      ]
     },
     "execution_count": 36,
     "metadata": {},
     "output_type": "execute_result"
    }
   ],
   "source": [
    "categorical_a.tail(5)"
   ]
  },
  {
   "cell_type": "code",
   "execution_count": 37,
   "metadata": {},
   "outputs": [
    {
     "data": {
      "text/plain": [
       "39"
      ]
     },
     "execution_count": 37,
     "metadata": {},
     "output_type": "execute_result"
    }
   ],
   "source": [
    "#Total class numbers of neighbourhood categorical data\n",
    "categorical_a[\"neighbourhood\"].value_counts().count()"
   ]
  },
  {
   "cell_type": "code",
   "execution_count": 38,
   "metadata": {
    "scrolled": true
   },
   "outputs": [
    {
     "data": {
      "text/plain": [
       "Beyoglu          4216\n",
       "Sisli            2332\n",
       "Fatih            2135\n",
       "Kadikoy          1708\n",
       "Besiktas         1354\n",
       "Uskudar           588\n",
       "Esenyurt          378\n",
       "Kagithane         353\n",
       "Sariyer           297\n",
       "Maltepe           261\n",
       "Atasehir          257\n",
       "Bakirkoy          196\n",
       "Bahcelievler      185\n",
       "Adalar            162\n",
       "Pendik            144\n",
       "Umraniye          136\n",
       "Basaksehir        130\n",
       "Eyup              126\n",
       "Kartal            125\n",
       "Avcilar           118\n",
       "Kucukcekmece      112\n",
       "Buyukcekmece      107\n",
       "Bagcilar           90\n",
       "Beykoz             88\n",
       "Zeytinburnu        75\n",
       "Beylikduzu         69\n",
       "Sile               59\n",
       "Gaziosmanpasa      59\n",
       "Tuzla              57\n",
       "Gungoren           57\n",
       "Cekmekoy           42\n",
       "Sancaktepe         30\n",
       "Silivri            25\n",
       "Esenler            18\n",
       "Bayrampasa         18\n",
       "Sultangazi         18\n",
       "Sultanbeyli        17\n",
       "Arnavutkoy          7\n",
       "Catalca             6\n",
       "Name: neighbourhood, dtype: int64"
      ]
     },
     "execution_count": 38,
     "metadata": {},
     "output_type": "execute_result"
    }
   ],
   "source": [
    "#Class numbers of categorical data which is neighbourhood and its numbers\n",
    "categorical_a[\"neighbourhood\"].value_counts()"
   ]
  },
  {
   "cell_type": "code",
   "execution_count": 39,
   "metadata": {},
   "outputs": [
    {
     "data": {
      "image/png": "[encoded data removed]",
      "text/plain": [
       "<Figure size 432x288 with 1 Axes>"
      ]
     },
     "metadata": {
      "needs_background": "light"
     },
     "output_type": "display_data"
    }
   ],
   "source": [
    "#Visual representation\n",
    "categorical_a[\"neighbourhood\"].value_counts().plot.barh();"
   ]
  },
  {
   "cell_type": "code",
   "execution_count": 40,
   "metadata": {},
   "outputs": [
    {
     "data": {
      "text/plain": [
       "3"
      ]
     },
     "execution_count": 40,
     "metadata": {},
     "output_type": "execute_result"
    }
   ],
   "source": [
    "#Total class numbers of room_type categorical data\n",
    "categorical_a[\"room_type\"].value_counts().count()"
   ]
  },
  {
   "cell_type": "code",
   "execution_count": 41,
   "metadata": {},
   "outputs": [
    {
     "data": {
      "text/plain": [
       "Private room       8501\n",
       "Entire home/apt    7164\n",
       "Shared room         490\n",
       "Name: room_type, dtype: int64"
      ]
     },
     "execution_count": 41,
     "metadata": {},
     "output_type": "execute_result"
    }
   ],
   "source": [
    "#Class numbers of categorical data which is room_type and its numbers\n",
    "categorical_a[\"room_type\"].value_counts()"
   ]
  },
  {
   "cell_type": "code",
   "execution_count": 42,
   "metadata": {},
   "outputs": [
    {
     "data": {
      "image/png": "[encoded data removed]",
      "text/plain": [
       "<Figure size 432x288 with 1 Axes>"
      ]
     },
     "metadata": {
      "needs_background": "light"
     },
     "output_type": "display_data"
    }
   ],
   "source": [
    "#Visual representation\n",
    "categorical_a[\"room_type\"].value_counts().plot.barh();"
   ]
  },
  {
   "cell_type": "code",
   "execution_count": 43,
   "metadata": {},
   "outputs": [
    {
     "data": {
      "text/html": [
       "<div>\n",
       "<style scoped>\n",
       "    .dataframe tbody tr th:only-of-type {\n",
       "        vertical-align: middle;\n",
       "    }\n",
       "\n",
       "    .dataframe tbody tr th {\n",
       "        vertical-align: top;\n",
       "    }\n",
       "\n",
       "    .dataframe thead th {\n",
       "        text-align: right;\n",
       "    }\n",
       "</style>\n",
       "<table border=\"1\" class=\"dataframe\">\n",
       "  <thead>\n",
       "    <tr style=\"text-align: right;\">\n",
       "      <th></th>\n",
       "      <th>Entire home/apt</th>\n",
       "      <th>Private room</th>\n",
       "      <th>Shared room</th>\n",
       "    </tr>\n",
       "  </thead>\n",
       "  <tbody>\n",
       "    <tr>\n",
       "      <th>0</th>\n",
       "      <td>1</td>\n",
       "      <td>0</td>\n",
       "      <td>0</td>\n",
       "    </tr>\n",
       "    <tr>\n",
       "      <th>1</th>\n",
       "      <td>1</td>\n",
       "      <td>0</td>\n",
       "      <td>0</td>\n",
       "    </tr>\n",
       "    <tr>\n",
       "      <th>2</th>\n",
       "      <td>1</td>\n",
       "      <td>0</td>\n",
       "      <td>0</td>\n",
       "    </tr>\n",
       "    <tr>\n",
       "      <th>3</th>\n",
       "      <td>1</td>\n",
       "      <td>0</td>\n",
       "      <td>0</td>\n",
       "    </tr>\n",
       "    <tr>\n",
       "      <th>4</th>\n",
       "      <td>1</td>\n",
       "      <td>0</td>\n",
       "      <td>0</td>\n",
       "    </tr>\n",
       "  </tbody>\n",
       "</table>\n",
       "</div>"
      ],
      "text/plain": [
       "   Entire home/apt  Private room  Shared room\n",
       "0                1             0            0\n",
       "1                1             0            0\n",
       "2                1             0            0\n",
       "3                1             0            0\n",
       "4                1             0            0"
      ]
     },
     "execution_count": 43,
     "metadata": {},
     "output_type": "execute_result"
    }
   ],
   "source": [
    "#Converting categorical variables into \"dummy\" or indicator variables \n",
    "Room_type =pd.get_dummies(airbnb['room_type'])\n",
    "Room_type.head()"
   ]
  },
  {
   "cell_type": "code",
   "execution_count": 44,
   "metadata": {},
   "outputs": [
    {
     "data": {
      "text/html": [
       "<div>\n",
       "<style scoped>\n",
       "    .dataframe tbody tr th:only-of-type {\n",
       "        vertical-align: middle;\n",
       "    }\n",
       "\n",
       "    .dataframe tbody tr th {\n",
       "        vertical-align: top;\n",
       "    }\n",
       "\n",
       "    .dataframe thead th {\n",
       "        text-align: right;\n",
       "    }\n",
       "</style>\n",
       "<table border=\"1\" class=\"dataframe\">\n",
       "  <thead>\n",
       "    <tr style=\"text-align: right;\">\n",
       "      <th></th>\n",
       "      <th>Adalar</th>\n",
       "      <th>Arnavutkoy</th>\n",
       "      <th>Atasehir</th>\n",
       "      <th>Avcilar</th>\n",
       "      <th>Bagcilar</th>\n",
       "      <th>Bahcelievler</th>\n",
       "      <th>Bakirkoy</th>\n",
       "      <th>Basaksehir</th>\n",
       "      <th>Bayrampasa</th>\n",
       "      <th>Besiktas</th>\n",
       "      <th>...</th>\n",
       "      <th>Sariyer</th>\n",
       "      <th>Sile</th>\n",
       "      <th>Silivri</th>\n",
       "      <th>Sisli</th>\n",
       "      <th>Sultanbeyli</th>\n",
       "      <th>Sultangazi</th>\n",
       "      <th>Tuzla</th>\n",
       "      <th>Umraniye</th>\n",
       "      <th>Uskudar</th>\n",
       "      <th>Zeytinburnu</th>\n",
       "    </tr>\n",
       "  </thead>\n",
       "  <tbody>\n",
       "    <tr>\n",
       "      <th>0</th>\n",
       "      <td>0</td>\n",
       "      <td>0</td>\n",
       "      <td>0</td>\n",
       "      <td>0</td>\n",
       "      <td>0</td>\n",
       "      <td>0</td>\n",
       "      <td>0</td>\n",
       "      <td>0</td>\n",
       "      <td>0</td>\n",
       "      <td>0</td>\n",
       "      <td>...</td>\n",
       "      <td>0</td>\n",
       "      <td>0</td>\n",
       "      <td>0</td>\n",
       "      <td>0</td>\n",
       "      <td>0</td>\n",
       "      <td>0</td>\n",
       "      <td>0</td>\n",
       "      <td>0</td>\n",
       "      <td>1</td>\n",
       "      <td>0</td>\n",
       "    </tr>\n",
       "    <tr>\n",
       "      <th>1</th>\n",
       "      <td>0</td>\n",
       "      <td>0</td>\n",
       "      <td>0</td>\n",
       "      <td>0</td>\n",
       "      <td>0</td>\n",
       "      <td>0</td>\n",
       "      <td>0</td>\n",
       "      <td>0</td>\n",
       "      <td>0</td>\n",
       "      <td>1</td>\n",
       "      <td>...</td>\n",
       "      <td>0</td>\n",
       "      <td>0</td>\n",
       "      <td>0</td>\n",
       "      <td>0</td>\n",
       "      <td>0</td>\n",
       "      <td>0</td>\n",
       "      <td>0</td>\n",
       "      <td>0</td>\n",
       "      <td>0</td>\n",
       "      <td>0</td>\n",
       "    </tr>\n",
       "    <tr>\n",
       "      <th>2</th>\n",
       "      <td>0</td>\n",
       "      <td>0</td>\n",
       "      <td>0</td>\n",
       "      <td>0</td>\n",
       "      <td>0</td>\n",
       "      <td>0</td>\n",
       "      <td>0</td>\n",
       "      <td>0</td>\n",
       "      <td>0</td>\n",
       "      <td>1</td>\n",
       "      <td>...</td>\n",
       "      <td>0</td>\n",
       "      <td>0</td>\n",
       "      <td>0</td>\n",
       "      <td>0</td>\n",
       "      <td>0</td>\n",
       "      <td>0</td>\n",
       "      <td>0</td>\n",
       "      <td>0</td>\n",
       "      <td>0</td>\n",
       "      <td>0</td>\n",
       "    </tr>\n",
       "    <tr>\n",
       "      <th>3</th>\n",
       "      <td>0</td>\n",
       "      <td>0</td>\n",
       "      <td>0</td>\n",
       "      <td>0</td>\n",
       "      <td>0</td>\n",
       "      <td>0</td>\n",
       "      <td>0</td>\n",
       "      <td>0</td>\n",
       "      <td>0</td>\n",
       "      <td>0</td>\n",
       "      <td>...</td>\n",
       "      <td>0</td>\n",
       "      <td>0</td>\n",
       "      <td>0</td>\n",
       "      <td>0</td>\n",
       "      <td>0</td>\n",
       "      <td>0</td>\n",
       "      <td>0</td>\n",
       "      <td>0</td>\n",
       "      <td>0</td>\n",
       "      <td>0</td>\n",
       "    </tr>\n",
       "    <tr>\n",
       "      <th>4</th>\n",
       "      <td>0</td>\n",
       "      <td>0</td>\n",
       "      <td>0</td>\n",
       "      <td>0</td>\n",
       "      <td>0</td>\n",
       "      <td>0</td>\n",
       "      <td>0</td>\n",
       "      <td>0</td>\n",
       "      <td>0</td>\n",
       "      <td>0</td>\n",
       "      <td>...</td>\n",
       "      <td>0</td>\n",
       "      <td>0</td>\n",
       "      <td>0</td>\n",
       "      <td>1</td>\n",
       "      <td>0</td>\n",
       "      <td>0</td>\n",
       "      <td>0</td>\n",
       "      <td>0</td>\n",
       "      <td>0</td>\n",
       "      <td>0</td>\n",
       "    </tr>\n",
       "  </tbody>\n",
       "</table>\n",
       "<p>5 rows × 39 columns</p>\n",
       "</div>"
      ],
      "text/plain": [
       "   Adalar  Arnavutkoy  Atasehir  Avcilar  Bagcilar  Bahcelievler  Bakirkoy  \\\n",
       "0       0           0         0        0         0             0         0   \n",
       "1       0           0         0        0         0             0         0   \n",
       "2       0           0         0        0         0             0         0   \n",
       "3       0           0         0        0         0             0         0   \n",
       "4       0           0         0        0         0             0         0   \n",
       "\n",
       "   Basaksehir  Bayrampasa  Besiktas  ...  Sariyer  Sile  Silivri  Sisli  \\\n",
       "0           0           0         0  ...        0     0        0      0   \n",
       "1           0           0         1  ...        0     0        0      0   \n",
       "2           0           0         1  ...        0     0        0      0   \n",
       "3           0           0         0  ...        0     0        0      0   \n",
       "4           0           0         0  ...        0     0        0      1   \n",
       "\n",
       "   Sultanbeyli  Sultangazi  Tuzla  Umraniye  Uskudar  Zeytinburnu  \n",
       "0            0           0      0         0        1            0  \n",
       "1            0           0      0         0        0            0  \n",
       "2            0           0      0         0        0            0  \n",
       "3            0           0      0         0        0            0  \n",
       "4            0           0      0         0        0            0  \n",
       "\n",
       "[5 rows x 39 columns]"
      ]
     },
     "execution_count": 44,
     "metadata": {},
     "output_type": "execute_result"
    }
   ],
   "source": [
    "#Converting categorical variables into \"dummy\" or indicator variables \n",
    "Neighbourhood=pd.get_dummies(airbnb['neighbourhood'])\n",
    "Neighbourhood.head()"
   ]
  },
  {
   "cell_type": "code",
   "execution_count": 45,
   "metadata": {},
   "outputs": [],
   "source": [
    "# Add new dummy columns to data frame\n",
    "airbnb = pd.concat([airbnb,Neighbourhood,Room_type],axis = 1)"
   ]
  },
  {
   "cell_type": "code",
   "execution_count": 46,
   "metadata": {},
   "outputs": [
    {
     "data": {
      "text/html": [
       "<div>\n",
       "<style scoped>\n",
       "    .dataframe tbody tr th:only-of-type {\n",
       "        vertical-align: middle;\n",
       "    }\n",
       "\n",
       "    .dataframe tbody tr th {\n",
       "        vertical-align: top;\n",
       "    }\n",
       "\n",
       "    .dataframe thead th {\n",
       "        text-align: right;\n",
       "    }\n",
       "</style>\n",
       "<table border=\"1\" class=\"dataframe\">\n",
       "  <thead>\n",
       "    <tr style=\"text-align: right;\">\n",
       "      <th></th>\n",
       "      <th>id</th>\n",
       "      <th>name</th>\n",
       "      <th>host_id</th>\n",
       "      <th>host_name</th>\n",
       "      <th>neighbourhood</th>\n",
       "      <th>latitude</th>\n",
       "      <th>longitude</th>\n",
       "      <th>room_type</th>\n",
       "      <th>price</th>\n",
       "      <th>minimum_nights</th>\n",
       "      <th>...</th>\n",
       "      <th>Sisli</th>\n",
       "      <th>Sultanbeyli</th>\n",
       "      <th>Sultangazi</th>\n",
       "      <th>Tuzla</th>\n",
       "      <th>Umraniye</th>\n",
       "      <th>Uskudar</th>\n",
       "      <th>Zeytinburnu</th>\n",
       "      <th>Entire home/apt</th>\n",
       "      <th>Private room</th>\n",
       "      <th>Shared room</th>\n",
       "    </tr>\n",
       "  </thead>\n",
       "  <tbody>\n",
       "    <tr>\n",
       "      <th>0</th>\n",
       "      <td>4826</td>\n",
       "      <td>The Place</td>\n",
       "      <td>6603</td>\n",
       "      <td>Kaan</td>\n",
       "      <td>Uskudar</td>\n",
       "      <td>41.05650</td>\n",
       "      <td>29.05367</td>\n",
       "      <td>Entire home/apt</td>\n",
       "      <td>554</td>\n",
       "      <td>1</td>\n",
       "      <td>...</td>\n",
       "      <td>0</td>\n",
       "      <td>0</td>\n",
       "      <td>0</td>\n",
       "      <td>0</td>\n",
       "      <td>0</td>\n",
       "      <td>1</td>\n",
       "      <td>0</td>\n",
       "      <td>1</td>\n",
       "      <td>0</td>\n",
       "      <td>0</td>\n",
       "    </tr>\n",
       "    <tr>\n",
       "      <th>1</th>\n",
       "      <td>20815</td>\n",
       "      <td>The Bosphorus from The Comfy Hill</td>\n",
       "      <td>78838</td>\n",
       "      <td>Gülder</td>\n",
       "      <td>Besiktas</td>\n",
       "      <td>41.06984</td>\n",
       "      <td>29.04545</td>\n",
       "      <td>Entire home/apt</td>\n",
       "      <td>100</td>\n",
       "      <td>30</td>\n",
       "      <td>...</td>\n",
       "      <td>0</td>\n",
       "      <td>0</td>\n",
       "      <td>0</td>\n",
       "      <td>0</td>\n",
       "      <td>0</td>\n",
       "      <td>0</td>\n",
       "      <td>0</td>\n",
       "      <td>1</td>\n",
       "      <td>0</td>\n",
       "      <td>0</td>\n",
       "    </tr>\n",
       "  </tbody>\n",
       "</table>\n",
       "<p>2 rows × 56 columns</p>\n",
       "</div>"
      ],
      "text/plain": [
       "      id                               name  host_id host_name neighbourhood  \\\n",
       "0   4826                          The Place     6603      Kaan       Uskudar   \n",
       "1  20815  The Bosphorus from The Comfy Hill    78838    Gülder      Besiktas   \n",
       "\n",
       "   latitude  longitude        room_type  price  minimum_nights  ...  Sisli  \\\n",
       "0  41.05650   29.05367  Entire home/apt    554               1  ...      0   \n",
       "1  41.06984   29.04545  Entire home/apt    100              30  ...      0   \n",
       "\n",
       "   Sultanbeyli  Sultangazi  Tuzla  Umraniye  Uskudar  Zeytinburnu  \\\n",
       "0            0           0      0         0        1            0   \n",
       "1            0           0      0         0        0            0   \n",
       "\n",
       "   Entire home/apt  Private room  Shared room  \n",
       "0                1             0            0  \n",
       "1                1             0            0  \n",
       "\n",
       "[2 rows x 56 columns]"
      ]
     },
     "execution_count": 46,
     "metadata": {},
     "output_type": "execute_result"
    }
   ],
   "source": [
    "#Checking airbnb.columns\n",
    "airbnb.head(2)"
   ]
  },
  {
   "cell_type": "code",
   "execution_count": 47,
   "metadata": {},
   "outputs": [
    {
     "data": {
      "text/html": [
       "<div>\n",
       "<style scoped>\n",
       "    .dataframe tbody tr th:only-of-type {\n",
       "        vertical-align: middle;\n",
       "    }\n",
       "\n",
       "    .dataframe tbody tr th {\n",
       "        vertical-align: top;\n",
       "    }\n",
       "\n",
       "    .dataframe thead th {\n",
       "        text-align: right;\n",
       "    }\n",
       "</style>\n",
       "<table border=\"1\" class=\"dataframe\">\n",
       "  <thead>\n",
       "    <tr style=\"text-align: right;\">\n",
       "      <th></th>\n",
       "      <th>id</th>\n",
       "      <th>name</th>\n",
       "      <th>host_id</th>\n",
       "      <th>host_name</th>\n",
       "      <th>latitude</th>\n",
       "      <th>longitude</th>\n",
       "      <th>price</th>\n",
       "      <th>minimum_nights</th>\n",
       "      <th>number_of_reviews</th>\n",
       "      <th>reviews_per_month</th>\n",
       "      <th>...</th>\n",
       "      <th>Sisli</th>\n",
       "      <th>Sultanbeyli</th>\n",
       "      <th>Sultangazi</th>\n",
       "      <th>Tuzla</th>\n",
       "      <th>Umraniye</th>\n",
       "      <th>Uskudar</th>\n",
       "      <th>Zeytinburnu</th>\n",
       "      <th>Entire home/apt</th>\n",
       "      <th>Private room</th>\n",
       "      <th>Shared room</th>\n",
       "    </tr>\n",
       "  </thead>\n",
       "  <tbody>\n",
       "    <tr>\n",
       "      <th>0</th>\n",
       "      <td>4826</td>\n",
       "      <td>The Place</td>\n",
       "      <td>6603</td>\n",
       "      <td>Kaan</td>\n",
       "      <td>41.05650</td>\n",
       "      <td>29.05367</td>\n",
       "      <td>554</td>\n",
       "      <td>1</td>\n",
       "      <td>1</td>\n",
       "      <td>0.01</td>\n",
       "      <td>...</td>\n",
       "      <td>0</td>\n",
       "      <td>0</td>\n",
       "      <td>0</td>\n",
       "      <td>0</td>\n",
       "      <td>0</td>\n",
       "      <td>1</td>\n",
       "      <td>0</td>\n",
       "      <td>1</td>\n",
       "      <td>0</td>\n",
       "      <td>0</td>\n",
       "    </tr>\n",
       "    <tr>\n",
       "      <th>1</th>\n",
       "      <td>20815</td>\n",
       "      <td>The Bosphorus from The Comfy Hill</td>\n",
       "      <td>78838</td>\n",
       "      <td>Gülder</td>\n",
       "      <td>41.06984</td>\n",
       "      <td>29.04545</td>\n",
       "      <td>100</td>\n",
       "      <td>30</td>\n",
       "      <td>41</td>\n",
       "      <td>0.38</td>\n",
       "      <td>...</td>\n",
       "      <td>0</td>\n",
       "      <td>0</td>\n",
       "      <td>0</td>\n",
       "      <td>0</td>\n",
       "      <td>0</td>\n",
       "      <td>0</td>\n",
       "      <td>0</td>\n",
       "      <td>1</td>\n",
       "      <td>0</td>\n",
       "      <td>0</td>\n",
       "    </tr>\n",
       "  </tbody>\n",
       "</table>\n",
       "<p>2 rows × 54 columns</p>\n",
       "</div>"
      ],
      "text/plain": [
       "      id                               name  host_id host_name  latitude  \\\n",
       "0   4826                          The Place     6603      Kaan  41.05650   \n",
       "1  20815  The Bosphorus from The Comfy Hill    78838    Gülder  41.06984   \n",
       "\n",
       "   longitude  price  minimum_nights  number_of_reviews  reviews_per_month  \\\n",
       "0   29.05367    554               1                  1               0.01   \n",
       "1   29.04545    100              30                 41               0.38   \n",
       "\n",
       "   ...  Sisli  Sultanbeyli  Sultangazi  Tuzla  Umraniye  Uskudar  Zeytinburnu  \\\n",
       "0  ...      0            0           0      0         0        1            0   \n",
       "1  ...      0            0           0      0         0        0            0   \n",
       "\n",
       "   Entire home/apt  Private room  Shared room  \n",
       "0                1             0            0  \n",
       "1                1             0            0  \n",
       "\n",
       "[2 rows x 54 columns]"
      ]
     },
     "execution_count": 47,
     "metadata": {},
     "output_type": "execute_result"
    }
   ],
   "source": [
    "#Drop the old categorical columns\n",
    "airbnb.drop(['neighbourhood', 'room_type'], axis = 1, inplace = True)\n",
    "airbnb.head(2)"
   ]
  },
  {
   "cell_type": "code",
   "execution_count": 48,
   "metadata": {},
   "outputs": [
    {
     "data": {
      "text/plain": [
       "Index(['id', 'name', 'host_id', 'host_name', 'latitude', 'longitude', 'price',\n",
       "       'minimum_nights', 'number_of_reviews', 'reviews_per_month',\n",
       "       'calculated_host_listings_count', 'availability_365', 'Adalar',\n",
       "       'Arnavutkoy', 'Atasehir', 'Avcilar', 'Bagcilar', 'Bahcelievler',\n",
       "       'Bakirkoy', 'Basaksehir', 'Bayrampasa', 'Besiktas', 'Beykoz',\n",
       "       'Beylikduzu', 'Beyoglu', 'Buyukcekmece', 'Catalca', 'Cekmekoy',\n",
       "       'Esenler', 'Esenyurt', 'Eyup', 'Fatih', 'Gaziosmanpasa', 'Gungoren',\n",
       "       'Kadikoy', 'Kagithane', 'Kartal', 'Kucukcekmece', 'Maltepe', 'Pendik',\n",
       "       'Sancaktepe', 'Sariyer', 'Sile', 'Silivri', 'Sisli', 'Sultanbeyli',\n",
       "       'Sultangazi', 'Tuzla', 'Umraniye', 'Uskudar', 'Zeytinburnu',\n",
       "       'Entire home/apt', 'Private room', 'Shared room'],\n",
       "      dtype='object')"
      ]
     },
     "execution_count": 48,
     "metadata": {},
     "output_type": "execute_result"
    }
   ],
   "source": [
    "#Checking\n",
    "airbnb.columns"
   ]
  },
  {
   "cell_type": "markdown",
   "metadata": {},
   "source": [
    "***Numerical Features***"
   ]
  },
  {
   "cell_type": "code",
   "execution_count": 49,
   "metadata": {},
   "outputs": [
    {
     "data": {
      "text/html": [
       "<div>\n",
       "<style scoped>\n",
       "    .dataframe tbody tr th:only-of-type {\n",
       "        vertical-align: middle;\n",
       "    }\n",
       "\n",
       "    .dataframe tbody tr th {\n",
       "        vertical-align: top;\n",
       "    }\n",
       "\n",
       "    .dataframe thead th {\n",
       "        text-align: right;\n",
       "    }\n",
       "</style>\n",
       "<table border=\"1\" class=\"dataframe\">\n",
       "  <thead>\n",
       "    <tr style=\"text-align: right;\">\n",
       "      <th></th>\n",
       "      <th>id</th>\n",
       "      <th>host_id</th>\n",
       "      <th>latitude</th>\n",
       "      <th>longitude</th>\n",
       "      <th>price</th>\n",
       "      <th>minimum_nights</th>\n",
       "      <th>number_of_reviews</th>\n",
       "      <th>reviews_per_month</th>\n",
       "      <th>calculated_host_listings_count</th>\n",
       "      <th>availability_365</th>\n",
       "    </tr>\n",
       "  </thead>\n",
       "  <tbody>\n",
       "    <tr>\n",
       "      <th>0</th>\n",
       "      <td>4826</td>\n",
       "      <td>6603</td>\n",
       "      <td>41.05650</td>\n",
       "      <td>29.05367</td>\n",
       "      <td>554</td>\n",
       "      <td>1</td>\n",
       "      <td>1</td>\n",
       "      <td>0.01</td>\n",
       "      <td>1</td>\n",
       "      <td>365</td>\n",
       "    </tr>\n",
       "    <tr>\n",
       "      <th>1</th>\n",
       "      <td>20815</td>\n",
       "      <td>78838</td>\n",
       "      <td>41.06984</td>\n",
       "      <td>29.04545</td>\n",
       "      <td>100</td>\n",
       "      <td>30</td>\n",
       "      <td>41</td>\n",
       "      <td>0.38</td>\n",
       "      <td>2</td>\n",
       "      <td>49</td>\n",
       "    </tr>\n",
       "    <tr>\n",
       "      <th>2</th>\n",
       "      <td>25436</td>\n",
       "      <td>105823</td>\n",
       "      <td>41.07731</td>\n",
       "      <td>29.03891</td>\n",
       "      <td>211</td>\n",
       "      <td>21</td>\n",
       "      <td>0</td>\n",
       "      <td>0.00</td>\n",
       "      <td>1</td>\n",
       "      <td>83</td>\n",
       "    </tr>\n",
       "    <tr>\n",
       "      <th>3</th>\n",
       "      <td>27271</td>\n",
       "      <td>117026</td>\n",
       "      <td>41.03220</td>\n",
       "      <td>28.98216</td>\n",
       "      <td>237</td>\n",
       "      <td>5</td>\n",
       "      <td>2</td>\n",
       "      <td>0.04</td>\n",
       "      <td>1</td>\n",
       "      <td>228</td>\n",
       "    </tr>\n",
       "    <tr>\n",
       "      <th>4</th>\n",
       "      <td>28277</td>\n",
       "      <td>121607</td>\n",
       "      <td>41.04471</td>\n",
       "      <td>28.98567</td>\n",
       "      <td>591</td>\n",
       "      <td>3</td>\n",
       "      <td>0</td>\n",
       "      <td>0.00</td>\n",
       "      <td>13</td>\n",
       "      <td>356</td>\n",
       "    </tr>\n",
       "  </tbody>\n",
       "</table>\n",
       "</div>"
      ],
      "text/plain": [
       "      id  host_id  latitude  longitude  price  minimum_nights  \\\n",
       "0   4826     6603  41.05650   29.05367    554               1   \n",
       "1  20815    78838  41.06984   29.04545    100              30   \n",
       "2  25436   105823  41.07731   29.03891    211              21   \n",
       "3  27271   117026  41.03220   28.98216    237               5   \n",
       "4  28277   121607  41.04471   28.98567    591               3   \n",
       "\n",
       "   number_of_reviews  reviews_per_month  calculated_host_listings_count  \\\n",
       "0                  1               0.01                               1   \n",
       "1                 41               0.38                               2   \n",
       "2                  0               0.00                               1   \n",
       "3                  2               0.04                               1   \n",
       "4                  0               0.00                              13   \n",
       "\n",
       "   availability_365  \n",
       "0               365  \n",
       "1                49  \n",
       "2                83  \n",
       "3               228  \n",
       "4               356  "
      ]
     },
     "execution_count": 49,
     "metadata": {},
     "output_type": "execute_result"
    }
   ],
   "source": [
    "#Selecting numerical data\n",
    "a=airbnb.copy()\n",
    "numerical_a = a.select_dtypes(include = [\"float64\", \"int64\"])\n",
    "numerical_a.head()"
   ]
  },
  {
   "cell_type": "code",
   "execution_count": 50,
   "metadata": {},
   "outputs": [
    {
     "data": {
      "text/html": [
       "<div>\n",
       "<style scoped>\n",
       "    .dataframe tbody tr th:only-of-type {\n",
       "        vertical-align: middle;\n",
       "    }\n",
       "\n",
       "    .dataframe tbody tr th {\n",
       "        vertical-align: top;\n",
       "    }\n",
       "\n",
       "    .dataframe thead th {\n",
       "        text-align: right;\n",
       "    }\n",
       "</style>\n",
       "<table border=\"1\" class=\"dataframe\">\n",
       "  <thead>\n",
       "    <tr style=\"text-align: right;\">\n",
       "      <th></th>\n",
       "      <th>count</th>\n",
       "      <th>mean</th>\n",
       "      <th>std</th>\n",
       "      <th>min</th>\n",
       "      <th>25%</th>\n",
       "      <th>50%</th>\n",
       "      <th>75%</th>\n",
       "      <th>max</th>\n",
       "    </tr>\n",
       "  </thead>\n",
       "  <tbody>\n",
       "    <tr>\n",
       "      <th>id</th>\n",
       "      <td>16155.0</td>\n",
       "      <td>1.892356e+07</td>\n",
       "      <td>1.054002e+07</td>\n",
       "      <td>4826.00000</td>\n",
       "      <td>8.620952e+06</td>\n",
       "      <td>2.173537e+07</td>\n",
       "      <td>2.872495e+07</td>\n",
       "      <td>3.245756e+07</td>\n",
       "    </tr>\n",
       "    <tr>\n",
       "      <th>host_id</th>\n",
       "      <td>16155.0</td>\n",
       "      <td>8.922279e+07</td>\n",
       "      <td>8.173022e+07</td>\n",
       "      <td>6603.00000</td>\n",
       "      <td>1.792181e+07</td>\n",
       "      <td>5.243358e+07</td>\n",
       "      <td>1.691285e+08</td>\n",
       "      <td>2.437341e+08</td>\n",
       "    </tr>\n",
       "    <tr>\n",
       "      <th>latitude</th>\n",
       "      <td>16155.0</td>\n",
       "      <td>4.102640e+01</td>\n",
       "      <td>4.324062e-02</td>\n",
       "      <td>40.81469</td>\n",
       "      <td>4.100435e+01</td>\n",
       "      <td>4.103132e+01</td>\n",
       "      <td>4.104780e+01</td>\n",
       "      <td>4.141442e+01</td>\n",
       "    </tr>\n",
       "    <tr>\n",
       "      <th>longitude</th>\n",
       "      <td>16155.0</td>\n",
       "      <td>2.898539e+01</td>\n",
       "      <td>1.145895e-01</td>\n",
       "      <td>28.03200</td>\n",
       "      <td>2.897410e+01</td>\n",
       "      <td>2.898426e+01</td>\n",
       "      <td>2.902257e+01</td>\n",
       "      <td>2.990778e+01</td>\n",
       "    </tr>\n",
       "    <tr>\n",
       "      <th>price</th>\n",
       "      <td>16155.0</td>\n",
       "      <td>3.552899e+02</td>\n",
       "      <td>1.433063e+03</td>\n",
       "      <td>0.00000</td>\n",
       "      <td>1.050000e+02</td>\n",
       "      <td>1.850000e+02</td>\n",
       "      <td>3.270000e+02</td>\n",
       "      <td>5.956100e+04</td>\n",
       "    </tr>\n",
       "    <tr>\n",
       "      <th>minimum_nights</th>\n",
       "      <td>16155.0</td>\n",
       "      <td>4.710740e+00</td>\n",
       "      <td>2.900055e+01</td>\n",
       "      <td>1.00000</td>\n",
       "      <td>1.000000e+00</td>\n",
       "      <td>1.000000e+00</td>\n",
       "      <td>2.000000e+00</td>\n",
       "      <td>1.125000e+03</td>\n",
       "    </tr>\n",
       "    <tr>\n",
       "      <th>number_of_reviews</th>\n",
       "      <td>16155.0</td>\n",
       "      <td>7.223522e+00</td>\n",
       "      <td>2.149608e+01</td>\n",
       "      <td>0.00000</td>\n",
       "      <td>0.000000e+00</td>\n",
       "      <td>0.000000e+00</td>\n",
       "      <td>4.000000e+00</td>\n",
       "      <td>3.070000e+02</td>\n",
       "    </tr>\n",
       "    <tr>\n",
       "      <th>reviews_per_month</th>\n",
       "      <td>16155.0</td>\n",
       "      <td>4.396057e-01</td>\n",
       "      <td>8.814282e-01</td>\n",
       "      <td>0.00000</td>\n",
       "      <td>0.000000e+00</td>\n",
       "      <td>0.000000e+00</td>\n",
       "      <td>4.800000e-01</td>\n",
       "      <td>1.200000e+01</td>\n",
       "    </tr>\n",
       "    <tr>\n",
       "      <th>calculated_host_listings_count</th>\n",
       "      <td>16155.0</td>\n",
       "      <td>4.118353e+00</td>\n",
       "      <td>7.666705e+00</td>\n",
       "      <td>1.00000</td>\n",
       "      <td>1.000000e+00</td>\n",
       "      <td>1.000000e+00</td>\n",
       "      <td>4.000000e+00</td>\n",
       "      <td>7.700000e+01</td>\n",
       "    </tr>\n",
       "    <tr>\n",
       "      <th>availability_365</th>\n",
       "      <td>16155.0</td>\n",
       "      <td>2.494595e+02</td>\n",
       "      <td>1.359772e+02</td>\n",
       "      <td>0.00000</td>\n",
       "      <td>1.020000e+02</td>\n",
       "      <td>3.400000e+02</td>\n",
       "      <td>3.650000e+02</td>\n",
       "      <td>3.650000e+02</td>\n",
       "    </tr>\n",
       "  </tbody>\n",
       "</table>\n",
       "</div>"
      ],
      "text/plain": [
       "                                  count          mean           std  \\\n",
       "id                              16155.0  1.892356e+07  1.054002e+07   \n",
       "host_id                         16155.0  8.922279e+07  8.173022e+07   \n",
       "latitude                        16155.0  4.102640e+01  4.324062e-02   \n",
       "longitude                       16155.0  2.898539e+01  1.145895e-01   \n",
       "price                           16155.0  3.552899e+02  1.433063e+03   \n",
       "minimum_nights                  16155.0  4.710740e+00  2.900055e+01   \n",
       "number_of_reviews               16155.0  7.223522e+00  2.149608e+01   \n",
       "reviews_per_month               16155.0  4.396057e-01  8.814282e-01   \n",
       "calculated_host_listings_count  16155.0  4.118353e+00  7.666705e+00   \n",
       "availability_365                16155.0  2.494595e+02  1.359772e+02   \n",
       "\n",
       "                                       min           25%           50%  \\\n",
       "id                              4826.00000  8.620952e+06  2.173537e+07   \n",
       "host_id                         6603.00000  1.792181e+07  5.243358e+07   \n",
       "latitude                          40.81469  4.100435e+01  4.103132e+01   \n",
       "longitude                         28.03200  2.897410e+01  2.898426e+01   \n",
       "price                              0.00000  1.050000e+02  1.850000e+02   \n",
       "minimum_nights                     1.00000  1.000000e+00  1.000000e+00   \n",
       "number_of_reviews                  0.00000  0.000000e+00  0.000000e+00   \n",
       "reviews_per_month                  0.00000  0.000000e+00  0.000000e+00   \n",
       "calculated_host_listings_count     1.00000  1.000000e+00  1.000000e+00   \n",
       "availability_365                   0.00000  1.020000e+02  3.400000e+02   \n",
       "\n",
       "                                         75%           max  \n",
       "id                              2.872495e+07  3.245756e+07  \n",
       "host_id                         1.691285e+08  2.437341e+08  \n",
       "latitude                        4.104780e+01  4.141442e+01  \n",
       "longitude                       2.902257e+01  2.990778e+01  \n",
       "price                           3.270000e+02  5.956100e+04  \n",
       "minimum_nights                  2.000000e+00  1.125000e+03  \n",
       "number_of_reviews               4.000000e+00  3.070000e+02  \n",
       "reviews_per_month               4.800000e-01  1.200000e+01  \n",
       "calculated_host_listings_count  4.000000e+00  7.700000e+01  \n",
       "availability_365                3.650000e+02  3.650000e+02  "
      ]
     },
     "execution_count": 50,
     "metadata": {},
     "output_type": "execute_result"
    }
   ],
   "source": [
    "#Descriptive statistics for numerical features\n",
    "numerical_a.describe().T"
   ]
  },
  {
   "cell_type": "code",
   "execution_count": 51,
   "metadata": {},
   "outputs": [
    {
     "data": {
      "text/plain": [
       "count    16155.000000\n",
       "mean       355.289941\n",
       "std       1433.062707\n",
       "min          0.000000\n",
       "25%        105.000000\n",
       "50%        185.000000\n",
       "75%        327.000000\n",
       "max      59561.000000\n",
       "Name: price, dtype: float64"
      ]
     },
     "execution_count": 51,
     "metadata": {},
     "output_type": "execute_result"
    }
   ],
   "source": [
    "#Descriptive statistics for price feature\n",
    "numerical_a[\"price\"].describe()"
   ]
  },
  {
   "cell_type": "code",
   "execution_count": 52,
   "metadata": {},
   "outputs": [
    {
     "name": "stdout",
     "output_type": "stream",
     "text": [
      "Mean: 355.28994119467654\n",
      "Number of Full Observations: 16155\n",
      "Max Value: 59561\n",
      "Min Value: 0\n",
      "Median: 185.0\n",
      "Standart Deviation: 1433.0627072935586\n"
     ]
    }
   ],
   "source": [
    "#Slightly more detailed descriptive statistics for price feature\n",
    "print(\"Mean: \" + str(numerical_a[\"price\"].mean()))\n",
    "print(\"Number of Full Observations: \" + str(numerical_a[\"price\"].count())) \n",
    "print(\"Max Value: \" + str(numerical_a[\"price\"].max()))\n",
    "print(\"Min Value: \" + str(numerical_a[\"price\"].min()))\n",
    "print(\"Median: \" + str(numerical_a[\"price\"].median()))\n",
    "print(\"Standart Deviation: \" + str(numerical_a[\"price\"].std()))"
   ]
  },
  {
   "cell_type": "markdown",
   "metadata": {},
   "source": [
    "***Visual analysis after data cleaning***"
   ]
  },
  {
   "cell_type": "markdown",
   "metadata": {},
   "source": [
    "Bar Plot"
   ]
  },
  {
   "cell_type": "code",
   "execution_count": 53,
   "metadata": {},
   "outputs": [
    {
     "data": {
      "image/png": "[encoded data removed]",
      "text/plain": [
       "<Figure size 432x288 with 1 Axes>"
      ]
     },
     "metadata": {
      "needs_background": "light"
     },
     "output_type": "display_data"
    }
   ],
   "source": [
    "#Visual representation of the neighborhood with the most airbnb lists\n",
    "airbnb[\"Beyoglu\"].value_counts().plot.barh().set_title(\"Class Frequencies of the Beyoglu Variable\");"
   ]
  },
  {
   "cell_type": "markdown",
   "metadata": {},
   "source": [
    "Cat Plot"
   ]
  },
  {
   "cell_type": "code",
   "execution_count": 54,
   "metadata": {},
   "outputs": [
    {
     "data": {
      "image/png": "[encoded data removed]",
      "text/plain": [
       "<Figure size 360x360 with 1 Axes>"
      ]
     },
     "metadata": {
      "needs_background": "light"
     },
     "output_type": "display_data"
    }
   ],
   "source": [
    "#Private room and price relation representation\n",
    "sns.catplot(x = \"Private room\", y = \"price\", data = airbnb);"
   ]
  },
  {
   "cell_type": "markdown",
   "metadata": {},
   "source": [
    "Histogram"
   ]
  },
  {
   "cell_type": "code",
   "execution_count": 55,
   "metadata": {},
   "outputs": [
    {
     "data": {
      "image/png": "[encoded data removed]",
      "text/plain": [
       "<Figure size 432x288 with 1 Axes>"
      ]
     },
     "metadata": {
      "needs_background": "light"
     },
     "output_type": "display_data"
    }
   ],
   "source": [
    "#distribution of price\n",
    "sns.distplot(airbnb.price);"
   ]
  },
  {
   "cell_type": "code",
   "execution_count": 56,
   "metadata": {},
   "outputs": [
    {
     "data": {
      "text/plain": [
       "<matplotlib.axes._subplots.AxesSubplot at 0x1f2a2057af0>"
      ]
     },
     "execution_count": 56,
     "metadata": {},
     "output_type": "execute_result"
    },
    {
     "data": {
      "image/png": "[encoded data removed]",
      "text/plain": [
       "<Figure size 432x288 with 1 Axes>"
      ]
     },
     "metadata": {
      "needs_background": "light"
     },
     "output_type": "display_data"
    }
   ],
   "source": [
    "#distribution of host listing counts\n",
    "sns.distplot(airbnb[\"calculated_host_listings_count\"])"
   ]
  },
  {
   "cell_type": "markdown",
   "metadata": {},
   "source": [
    "Box Plot"
   ]
  },
  {
   "cell_type": "code",
   "execution_count": 57,
   "metadata": {},
   "outputs": [
    {
     "data": {
      "image/png": "[encoded data removed]",
      "text/plain": [
       "<Figure size 432x288 with 1 Axes>"
      ]
     },
     "metadata": {
      "needs_background": "light"
     },
     "output_type": "display_data"
    }
   ],
   "source": [
    "#Visualizing the price distribution\n",
    "sns.boxplot(x = airbnb[\"price\"]);"
   ]
  },
  {
   "cell_type": "code",
   "execution_count": 58,
   "metadata": {},
   "outputs": [
    {
     "data": {
      "text/plain": [
       "<matplotlib.axes._subplots.AxesSubplot at 0x1f2a208b4f0>"
      ]
     },
     "execution_count": 58,
     "metadata": {},
     "output_type": "execute_result"
    },
    {
     "data": {
      "image/png": "[encoded data removed]",
      "text/plain": [
       "<Figure size 432x288 with 1 Axes>"
      ]
     },
     "metadata": {
      "needs_background": "light"
     },
     "output_type": "display_data"
    }
   ],
   "source": [
    "#The relationship of the neighborhood with the highest lists\n",
    "sns.boxplot(x = \"Beyoglu\", y = \"price\", data = airbnb)"
   ]
  },
  {
   "cell_type": "code",
   "execution_count": 59,
   "metadata": {},
   "outputs": [
    {
     "data": {
      "text/plain": [
       "<matplotlib.axes._subplots.AxesSubplot at 0x1f2a36b8580>"
      ]
     },
     "execution_count": 59,
     "metadata": {},
     "output_type": "execute_result"
    },
    {
     "data": {
      "image/png": "[encoded data removed]",
      "text/plain": [
       "<Figure size 432x288 with 1 Axes>"
      ]
     },
     "metadata": {
      "needs_background": "light"
     },
     "output_type": "display_data"
    }
   ],
   "source": [
    "#The relationship of the neighborhood with the highest average price\n",
    "sns.boxplot(x = \"Kucukcekmece\", y = \"price\", data = airbnb)"
   ]
  },
  {
   "cell_type": "markdown",
   "metadata": {},
   "source": [
    "Scatter Plot"
   ]
  },
  {
   "cell_type": "code",
   "execution_count": 60,
   "metadata": {},
   "outputs": [
    {
     "data": {
      "image/png": "[encoded data removed]",
      "text/plain": [
       "<Figure size 432x288 with 1 Axes>"
      ]
     },
     "metadata": {
      "needs_background": "light"
     },
     "output_type": "display_data"
    }
   ],
   "source": [
    "#The relationship between the minimum number of nights stayed and the price\n",
    "sns.scatterplot(x = \"minimum_nights\", y = \"price\", data = airbnb);"
   ]
  },
  {
   "cell_type": "code",
   "execution_count": 61,
   "metadata": {},
   "outputs": [
    {
     "data": {
      "image/png": "[encoded data removed]",
      "text/plain": [
       "<Figure size 432x288 with 1 Axes>"
      ]
     },
     "metadata": {
      "needs_background": "light"
     },
     "output_type": "display_data"
    }
   ],
   "source": [
    "#The relationship between the number of reviews and the price\n",
    "sns.scatterplot(x = \"number_of_reviews\", y = \"price\", data = airbnb);"
   ]
  },
  {
   "cell_type": "code",
   "execution_count": 62,
   "metadata": {},
   "outputs": [
    {
     "data": {
      "image/png": "[encoded data removed]",
      "text/plain": [
       "<Figure size 432x288 with 1 Axes>"
      ]
     },
     "metadata": {
      "needs_background": "light"
     },
     "output_type": "display_data"
    }
   ],
   "source": [
    "#The relationship between Beyoglu neighbourhood and the price via private room type\n",
    "sns.scatterplot(x = \"Beyoglu\", y = \"price\", hue = \"Private room\", style = \"Private room\", data = airbnb);"
   ]
  },
  {
   "cell_type": "markdown",
   "metadata": {},
   "source": [
    "## Preparation before building models "
   ]
  },
  {
   "cell_type": "markdown",
   "metadata": {},
   "source": [
    "***Grouping the price which is target variable to apply the classification models***"
   ]
  },
  {
   "cell_type": "code",
   "execution_count": 63,
   "metadata": {},
   "outputs": [],
   "source": [
    "airbnb['low_price']=airbnb['price']-airbnb['price']\n",
    "airbnb['high_price']=airbnb['price']-airbnb['price']"
   ]
  },
  {
   "cell_type": "code",
   "execution_count": 64,
   "metadata": {},
   "outputs": [
    {
     "data": {
      "text/plain": [
       "Index(['id', 'name', 'host_id', 'host_name', 'latitude', 'longitude', 'price',\n",
       "       'minimum_nights', 'number_of_reviews', 'reviews_per_month',\n",
       "       'calculated_host_listings_count', 'availability_365', 'Adalar',\n",
       "       'Arnavutkoy', 'Atasehir', 'Avcilar', 'Bagcilar', 'Bahcelievler',\n",
       "       'Bakirkoy', 'Basaksehir', 'Bayrampasa', 'Besiktas', 'Beykoz',\n",
       "       'Beylikduzu', 'Beyoglu', 'Buyukcekmece', 'Catalca', 'Cekmekoy',\n",
       "       'Esenler', 'Esenyurt', 'Eyup', 'Fatih', 'Gaziosmanpasa', 'Gungoren',\n",
       "       'Kadikoy', 'Kagithane', 'Kartal', 'Kucukcekmece', 'Maltepe', 'Pendik',\n",
       "       'Sancaktepe', 'Sariyer', 'Sile', 'Silivri', 'Sisli', 'Sultanbeyli',\n",
       "       'Sultangazi', 'Tuzla', 'Umraniye', 'Uskudar', 'Zeytinburnu',\n",
       "       'Entire home/apt', 'Private room', 'Shared room', 'low_price',\n",
       "       'high_price'],\n",
       "      dtype='object')"
      ]
     },
     "execution_count": 64,
     "metadata": {},
     "output_type": "execute_result"
    }
   ],
   "source": [
    "airbnb.columns"
   ]
  },
  {
   "cell_type": "code",
   "execution_count": 65,
   "metadata": {},
   "outputs": [],
   "source": [
    "# Imputation function for low_price\n",
    "def impute_low_price(cols):\n",
    "    Price = cols[0]\n",
    "    Low_Price = cols[1]\n",
    "    \n",
    "    if (Price<2000):\n",
    "        return 1\n",
    "    else:\n",
    "        return Low_Price"
   ]
  },
  {
   "cell_type": "code",
   "execution_count": 66,
   "metadata": {},
   "outputs": [],
   "source": [
    "# Apply the function to the low_price column\n",
    "airbnb['low_price']=airbnb[['price','low_price']].apply(impute_low_price, axis =1 )"
   ]
  },
  {
   "cell_type": "code",
   "execution_count": 67,
   "metadata": {},
   "outputs": [
    {
     "data": {
      "text/plain": [
       "1    15929\n",
       "0      226\n",
       "Name: low_price, dtype: int64"
      ]
     },
     "execution_count": 67,
     "metadata": {},
     "output_type": "execute_result"
    }
   ],
   "source": [
    "airbnb['low_price'].value_counts()"
   ]
  },
  {
   "cell_type": "code",
   "execution_count": 68,
   "metadata": {},
   "outputs": [],
   "source": [
    "# Imputation function for high_price\n",
    "def impute_high_price(cols):\n",
    "    Price = cols[0]\n",
    "    High_Price = cols[1]\n",
    "    \n",
    "    if (Price>2000):\n",
    "        return 1\n",
    "    else:\n",
    "        return High_Price"
   ]
  },
  {
   "cell_type": "code",
   "execution_count": 69,
   "metadata": {},
   "outputs": [],
   "source": [
    "# Apply the function to the high_price column\n",
    "airbnb['high_price']=airbnb[['price','high_price']].apply(impute_high_price, axis =1 )"
   ]
  },
  {
   "cell_type": "code",
   "execution_count": 70,
   "metadata": {},
   "outputs": [
    {
     "data": {
      "text/plain": [
       "0    15929\n",
       "1      226\n",
       "Name: high_price, dtype: int64"
      ]
     },
     "execution_count": 70,
     "metadata": {},
     "output_type": "execute_result"
    }
   ],
   "source": [
    "airbnb['high_price'].value_counts()"
   ]
  },
  {
   "cell_type": "markdown",
   "metadata": {},
   "source": [
    "# Methods"
   ]
  },
  {
   "cell_type": "markdown",
   "metadata": {},
   "source": [
    "## Building Classification Models"
   ]
  },
  {
   "cell_type": "markdown",
   "metadata": {},
   "source": [
    "## Logistic Regression Model"
   ]
  },
  {
   "cell_type": "markdown",
   "metadata": {},
   "source": [
    "***Splitting data as Train and Test:***"
   ]
  },
  {
   "cell_type": "code",
   "execution_count": 71,
   "metadata": {},
   "outputs": [],
   "source": [
    "#Separate data into x and y variables\n",
    "x = airbnb.drop(['low_price', 'host_name','name','id','reviews_per_month'],axis = 1) \n",
    "#x is everything else(except all dropped features)\n",
    "y = airbnb['low_price'] \n",
    "#y is the column to predict"
   ]
  },
  {
   "cell_type": "code",
   "execution_count": 72,
   "metadata": {},
   "outputs": [
    {
     "name": "stdout",
     "output_type": "stream",
     "text": [
      "(11308, 51)\n",
      "(4847, 51)\n"
     ]
    }
   ],
   "source": [
    "#Use x and y variables to split the data into training and test sets\n",
    "from sklearn.model_selection import train_test_split\n",
    "from sklearn.pipeline import make_pipeline\n",
    "from sklearn.preprocessing import StandardScaler\n",
    "#30% test 70% train\n",
    "x_train, x_test, y_train, y_test = train_test_split(x, y, test_size=0.30, random_state= 101)\n",
    "#print (rows,columns) of x\n",
    "print(x_train.shape)\n",
    "print(x_test.shape)"
   ]
  },
  {
   "cell_type": "markdown",
   "metadata": {},
   "source": [
    "***Building Model***"
   ]
  },
  {
   "cell_type": "code",
   "execution_count": 73,
   "metadata": {},
   "outputs": [],
   "source": [
    "#Import LogisticRegression model\n",
    "from sklearn.linear_model import LogisticRegression\n",
    "\n",
    "#Create instance of model\n",
    "logmodel = LogisticRegression(solver='lbfgs',max_iter=500)"
   ]
  },
  {
   "cell_type": "markdown",
   "metadata": {},
   "source": [
    "***Training Model on Train Data***"
   ]
  },
  {
   "cell_type": "code",
   "execution_count": 74,
   "metadata": {},
   "outputs": [
    {
     "data": {
      "text/plain": [
       "LogisticRegression(max_iter=500)"
      ]
     },
     "execution_count": 74,
     "metadata": {},
     "output_type": "execute_result"
    }
   ],
   "source": [
    "#Training logmodel with train datas\n",
    "#logmodel=make_pipeline(StandardScaler(), LogisticRegression())\n",
    "logmodel.fit(x_train,y_train)"
   ]
  },
  {
   "cell_type": "markdown",
   "metadata": {},
   "source": [
    "***Predicting on Test Data***"
   ]
  },
  {
   "cell_type": "code",
   "execution_count": 75,
   "metadata": {
    "scrolled": true
   },
   "outputs": [
    {
     "name": "stdout",
     "output_type": "stream",
     "text": [
      "[1 1 1 ... 1 1 1]\n",
      "10889    0\n",
      "6894     1\n",
      "11540    1\n",
      "14932    1\n",
      "8505     1\n",
      "        ..\n",
      "5243     1\n",
      "3145     1\n",
      "5214     1\n",
      "7994     1\n",
      "10309    1\n",
      "Name: low_price, Length: 4847, dtype: int64\n"
     ]
    }
   ],
   "source": [
    "#Make predictions on test data\n",
    "predictions = logmodel.predict(x_test)\n",
    "print(predictions)\n",
    "print(y_test)"
   ]
  },
  {
   "cell_type": "code",
   "execution_count": 76,
   "metadata": {},
   "outputs": [
    {
     "data": {
      "text/html": [
       "<div>\n",
       "<style scoped>\n",
       "    .dataframe tbody tr th:only-of-type {\n",
       "        vertical-align: middle;\n",
       "    }\n",
       "\n",
       "    .dataframe tbody tr th {\n",
       "        vertical-align: top;\n",
       "    }\n",
       "\n",
       "    .dataframe thead th {\n",
       "        text-align: right;\n",
       "    }\n",
       "</style>\n",
       "<table border=\"1\" class=\"dataframe\">\n",
       "  <thead>\n",
       "    <tr style=\"text-align: right;\">\n",
       "      <th></th>\n",
       "      <th>Actual</th>\n",
       "      <th>Predicted</th>\n",
       "    </tr>\n",
       "  </thead>\n",
       "  <tbody>\n",
       "    <tr>\n",
       "      <th>10889</th>\n",
       "      <td>0</td>\n",
       "      <td>1</td>\n",
       "    </tr>\n",
       "    <tr>\n",
       "      <th>6894</th>\n",
       "      <td>1</td>\n",
       "      <td>1</td>\n",
       "    </tr>\n",
       "    <tr>\n",
       "      <th>11540</th>\n",
       "      <td>1</td>\n",
       "      <td>1</td>\n",
       "    </tr>\n",
       "    <tr>\n",
       "      <th>14932</th>\n",
       "      <td>1</td>\n",
       "      <td>1</td>\n",
       "    </tr>\n",
       "    <tr>\n",
       "      <th>8505</th>\n",
       "      <td>1</td>\n",
       "      <td>1</td>\n",
       "    </tr>\n",
       "    <tr>\n",
       "      <th>11553</th>\n",
       "      <td>1</td>\n",
       "      <td>1</td>\n",
       "    </tr>\n",
       "    <tr>\n",
       "      <th>14912</th>\n",
       "      <td>1</td>\n",
       "      <td>1</td>\n",
       "    </tr>\n",
       "    <tr>\n",
       "      <th>4525</th>\n",
       "      <td>1</td>\n",
       "      <td>1</td>\n",
       "    </tr>\n",
       "    <tr>\n",
       "      <th>6086</th>\n",
       "      <td>1</td>\n",
       "      <td>1</td>\n",
       "    </tr>\n",
       "    <tr>\n",
       "      <th>960</th>\n",
       "      <td>0</td>\n",
       "      <td>1</td>\n",
       "    </tr>\n",
       "  </tbody>\n",
       "</table>\n",
       "</div>"
      ],
      "text/plain": [
       "       Actual  Predicted\n",
       "10889       0          1\n",
       "6894        1          1\n",
       "11540       1          1\n",
       "14932       1          1\n",
       "8505        1          1\n",
       "11553       1          1\n",
       "14912       1          1\n",
       "4525        1          1\n",
       "6086        1          1\n",
       "960         0          1"
      ]
     },
     "execution_count": 76,
     "metadata": {},
     "output_type": "execute_result"
    }
   ],
   "source": [
    "#Show predictions with a table\n",
    "pf = pd.DataFrame({'Actual' : y_test,'Predicted':predictions})\n",
    "pf.head(10)"
   ]
  },
  {
   "cell_type": "code",
   "execution_count": 77,
   "metadata": {
    "scrolled": true
   },
   "outputs": [
    {
     "data": {
      "text/html": [
       "<div>\n",
       "<style scoped>\n",
       "    .dataframe tbody tr th:only-of-type {\n",
       "        vertical-align: middle;\n",
       "    }\n",
       "\n",
       "    .dataframe tbody tr th {\n",
       "        vertical-align: top;\n",
       "    }\n",
       "\n",
       "    .dataframe thead th {\n",
       "        text-align: right;\n",
       "    }\n",
       "</style>\n",
       "<table border=\"1\" class=\"dataframe\">\n",
       "  <thead>\n",
       "    <tr style=\"text-align: right;\">\n",
       "      <th></th>\n",
       "      <th>Actual</th>\n",
       "      <th>Predicted</th>\n",
       "    </tr>\n",
       "  </thead>\n",
       "  <tbody>\n",
       "    <tr>\n",
       "      <th>13239</th>\n",
       "      <td>1</td>\n",
       "      <td>1</td>\n",
       "    </tr>\n",
       "    <tr>\n",
       "      <th>9834</th>\n",
       "      <td>1</td>\n",
       "      <td>1</td>\n",
       "    </tr>\n",
       "    <tr>\n",
       "      <th>8972</th>\n",
       "      <td>1</td>\n",
       "      <td>1</td>\n",
       "    </tr>\n",
       "    <tr>\n",
       "      <th>11109</th>\n",
       "      <td>1</td>\n",
       "      <td>1</td>\n",
       "    </tr>\n",
       "    <tr>\n",
       "      <th>2168</th>\n",
       "      <td>1</td>\n",
       "      <td>1</td>\n",
       "    </tr>\n",
       "    <tr>\n",
       "      <th>5243</th>\n",
       "      <td>1</td>\n",
       "      <td>1</td>\n",
       "    </tr>\n",
       "    <tr>\n",
       "      <th>3145</th>\n",
       "      <td>1</td>\n",
       "      <td>1</td>\n",
       "    </tr>\n",
       "    <tr>\n",
       "      <th>5214</th>\n",
       "      <td>1</td>\n",
       "      <td>1</td>\n",
       "    </tr>\n",
       "    <tr>\n",
       "      <th>7994</th>\n",
       "      <td>1</td>\n",
       "      <td>1</td>\n",
       "    </tr>\n",
       "    <tr>\n",
       "      <th>10309</th>\n",
       "      <td>1</td>\n",
       "      <td>1</td>\n",
       "    </tr>\n",
       "  </tbody>\n",
       "</table>\n",
       "</div>"
      ],
      "text/plain": [
       "       Actual  Predicted\n",
       "13239       1          1\n",
       "9834        1          1\n",
       "8972        1          1\n",
       "11109       1          1\n",
       "2168        1          1\n",
       "5243        1          1\n",
       "3145        1          1\n",
       "5214        1          1\n",
       "7994        1          1\n",
       "10309       1          1"
      ]
     },
     "execution_count": 77,
     "metadata": {},
     "output_type": "execute_result"
    }
   ],
   "source": [
    "pf.tail(10)"
   ]
  },
  {
   "cell_type": "code",
   "execution_count": 78,
   "metadata": {
    "scrolled": true
   },
   "outputs": [
    {
     "data": {
      "text/plain": [
       "(4847, 2)"
      ]
     },
     "execution_count": 78,
     "metadata": {},
     "output_type": "execute_result"
    }
   ],
   "source": [
    "#Total test samples\n",
    "pf.shape"
   ]
  },
  {
   "cell_type": "code",
   "execution_count": 79,
   "metadata": {},
   "outputs": [
    {
     "data": {
      "text/plain": [
       "Actual       4780\n",
       "Predicted    4780\n",
       "dtype: int64"
      ]
     },
     "execution_count": 79,
     "metadata": {},
     "output_type": "execute_result"
    }
   ],
   "source": [
    "#How many correctly samples our model predicted\n",
    "pf[pf['Actual']==pf['Predicted']].count()\n",
    "#As a result, out of 4847 samples, 4780 were predicted correctly"
   ]
  },
  {
   "cell_type": "code",
   "execution_count": 80,
   "metadata": {
    "scrolled": false
   },
   "outputs": [
    {
     "name": "stdout",
     "output_type": "stream",
     "text": [
      "98.61770167113679\n"
     ]
    }
   ],
   "source": [
    "#Finding accuracy \n",
    "#Thus, 4780 out of 4847 samples are correctly predict\n",
    "accuracy=(4780/4847)*100\n",
    "print(accuracy)"
   ]
  },
  {
   "cell_type": "markdown",
   "metadata": {},
   "source": [
    "***Model Evaluation***"
   ]
  },
  {
   "cell_type": "markdown",
   "metadata": {},
   "source": [
    "***It can be evaluated whether the accuracy of the model is good or the model can predict well according to two functions:***"
   ]
  },
  {
   "cell_type": "markdown",
   "metadata": {},
   "source": [
    "***Classification Report***"
   ]
  },
  {
   "cell_type": "code",
   "execution_count": 81,
   "metadata": {},
   "outputs": [
    {
     "name": "stdout",
     "output_type": "stream",
     "text": [
      "              precision    recall  f1-score   support\n",
      "\n",
      "           0       0.00      0.00      0.00        67\n",
      "           1       0.99      1.00      0.99      4780\n",
      "\n",
      "    accuracy                           0.99      4847\n",
      "   macro avg       0.49      0.50      0.50      4847\n",
      "weighted avg       0.97      0.99      0.98      4847\n",
      "\n"
     ]
    },
    {
     "name": "stderr",
     "output_type": "stream",
     "text": [
      "D:\\Anaconda\\lib\\site-packages\\sklearn\\metrics\\_classification.py:1221: UndefinedMetricWarning: Precision and F-score are ill-defined and being set to 0.0 in labels with no predicted samples. Use `zero_division` parameter to control this behavior.\n",
      "  _warn_prf(average, modifier, msg_start, len(result))\n"
     ]
    }
   ],
   "source": [
    "#Classification report results\n",
    "from sklearn.metrics import classification_report\n",
    "print(classification_report(y_test,predictions))"
   ]
  },
  {
   "cell_type": "markdown",
   "metadata": {},
   "source": [
    "***Confusion Matrix***"
   ]
  },
  {
   "cell_type": "code",
   "execution_count": 82,
   "metadata": {},
   "outputs": [
    {
     "data": {
      "text/plain": [
       "array([[   0,   67],\n",
       "       [   0, 4780]], dtype=int64)"
      ]
     },
     "execution_count": 82,
     "metadata": {},
     "output_type": "execute_result"
    }
   ],
   "source": [
    "#Confusion matrix results\n",
    "from sklearn.metrics import confusion_matrix\n",
    "confusion_matrix(y_test,predictions)"
   ]
  },
  {
   "cell_type": "markdown",
   "metadata": {},
   "source": [
    "## k Nearest Neighbor(kNN) Model"
   ]
  },
  {
   "cell_type": "markdown",
   "metadata": {},
   "source": [
    "***Building Model***"
   ]
  },
  {
   "cell_type": "code",
   "execution_count": 83,
   "metadata": {},
   "outputs": [],
   "source": [
    "from sklearn.neighbors import KNeighborsClassifier\n",
    "knn = KNeighborsClassifier(n_neighbors = 1)"
   ]
  },
  {
   "cell_type": "markdown",
   "metadata": {},
   "source": [
    "***Training and Predicting Models with Different k Values***"
   ]
  },
  {
   "cell_type": "markdown",
   "metadata": {},
   "source": [
    "***k=1***"
   ]
  },
  {
   "cell_type": "code",
   "execution_count": 84,
   "metadata": {},
   "outputs": [
    {
     "data": {
      "text/plain": [
       "KNeighborsClassifier(n_neighbors=1)"
      ]
     },
     "execution_count": 84,
     "metadata": {},
     "output_type": "execute_result"
    }
   ],
   "source": [
    "knn.fit(x_train,y_train)"
   ]
  },
  {
   "cell_type": "code",
   "execution_count": 85,
   "metadata": {},
   "outputs": [],
   "source": [
    "Actual = y_test\n",
    "Predicted = knn.predict(x_test)"
   ]
  },
  {
   "cell_type": "code",
   "execution_count": 86,
   "metadata": {},
   "outputs": [
    {
     "name": "stdout",
     "output_type": "stream",
     "text": [
      "98.74148958118424\n"
     ]
    }
   ],
   "source": [
    "#The accuracy for the knn k=1 model\n",
    "from sklearn.metrics import accuracy_score\n",
    "print(accuracy_score(Actual,Predicted)*100)"
   ]
  },
  {
   "cell_type": "code",
   "execution_count": 87,
   "metadata": {},
   "outputs": [
    {
     "name": "stdout",
     "output_type": "stream",
     "text": [
      "[[  24   43]\n",
      " [  18 4762]]\n"
     ]
    }
   ],
   "source": [
    "from sklearn.metrics import classification_report, confusion_matrix\n",
    "#Confusion matrix results\n",
    "print(confusion_matrix(y_true = Actual, y_pred = Predicted ))"
   ]
  },
  {
   "cell_type": "code",
   "execution_count": 88,
   "metadata": {},
   "outputs": [
    {
     "name": "stdout",
     "output_type": "stream",
     "text": [
      "              precision    recall  f1-score   support\n",
      "\n",
      "           0       0.57      0.36      0.44        67\n",
      "           1       0.99      1.00      0.99      4780\n",
      "\n",
      "    accuracy                           0.99      4847\n",
      "   macro avg       0.78      0.68      0.72      4847\n",
      "weighted avg       0.99      0.99      0.99      4847\n",
      "\n"
     ]
    }
   ],
   "source": [
    "#Classification report results\n",
    "print(classification_report(y_true=Actual, y_pred = Predicted))"
   ]
  },
  {
   "cell_type": "markdown",
   "metadata": {},
   "source": [
    "***k=10***"
   ]
  },
  {
   "cell_type": "code",
   "execution_count": 89,
   "metadata": {},
   "outputs": [],
   "source": [
    "knn = KNeighborsClassifier(n_neighbors = 10)"
   ]
  },
  {
   "cell_type": "code",
   "execution_count": 90,
   "metadata": {},
   "outputs": [
    {
     "name": "stdout",
     "output_type": "stream",
     "text": [
      "98.59707035279554\n"
     ]
    }
   ],
   "source": [
    "#The accuracy for the knn k=10 model\n",
    "knn.fit(x_train,y_train)\n",
    "Actual = y_test\n",
    "Predicted = knn.predict(x_test)\n",
    "print(accuracy_score(Actual,Predicted)*100)"
   ]
  },
  {
   "cell_type": "markdown",
   "metadata": {},
   "source": [
    "***k=20***"
   ]
  },
  {
   "cell_type": "code",
   "execution_count": 91,
   "metadata": {},
   "outputs": [],
   "source": [
    "knn = KNeighborsClassifier(n_neighbors = 20)"
   ]
  },
  {
   "cell_type": "code",
   "execution_count": 92,
   "metadata": {},
   "outputs": [
    {
     "name": "stdout",
     "output_type": "stream",
     "text": [
      "98.61770167113679\n"
     ]
    }
   ],
   "source": [
    "#The accuracy for the knn k=20 model\n",
    "knn.fit(x_train,y_train)\n",
    "Actual = y_test\n",
    "Predicted = knn.predict(x_test)\n",
    "print(accuracy_score(Actual,Predicted)*100)"
   ]
  },
  {
   "cell_type": "markdown",
   "metadata": {},
   "source": [
    "***k=30***"
   ]
  },
  {
   "cell_type": "code",
   "execution_count": 93,
   "metadata": {},
   "outputs": [],
   "source": [
    "knn = KNeighborsClassifier(n_neighbors = 30)"
   ]
  },
  {
   "cell_type": "code",
   "execution_count": 94,
   "metadata": {},
   "outputs": [
    {
     "name": "stdout",
     "output_type": "stream",
     "text": [
      "98.61770167113679\n"
     ]
    }
   ],
   "source": [
    "#The accuracy for the knn k=30 model\n",
    "knn.fit(x_train,y_train)\n",
    "Actual = y_test\n",
    "Predicted = knn.predict(x_test)\n",
    "print(accuracy_score(Actual,Predicted)*100)"
   ]
  },
  {
   "cell_type": "markdown",
   "metadata": {},
   "source": [
    "***Choosing a K Value - Elbow Method***"
   ]
  },
  {
   "cell_type": "code",
   "execution_count": 95,
   "metadata": {},
   "outputs": [],
   "source": [
    "#Find a more accurate value of k\n",
    "# Function\n",
    "error_rate = []\n",
    "\n",
    "for i in range (1,40):\n",
    "    \n",
    "    knn = KNeighborsClassifier(n_neighbors = i)\n",
    "    knn.fit(x_train, y_train)\n",
    "    pred_i = knn.predict(x_test)\n",
    "    error_rate.append(np.mean(pred_i != y_test))"
   ]
  },
  {
   "cell_type": "code",
   "execution_count": 96,
   "metadata": {},
   "outputs": [
    {
     "data": {
      "text/plain": [
       "Text(0, 0.5, 'Error Rate')"
      ]
     },
     "execution_count": 96,
     "metadata": {},
     "output_type": "execute_result"
    },
    {
     "data": {
      "image/png": "[encoded data removed]",
      "text/plain": [
       "<Figure size 720x432 with 1 Axes>"
      ]
     },
     "metadata": {
      "needs_background": "light"
     },
     "output_type": "display_data"
    }
   ],
   "source": [
    "# Plot error rate vs K Value\n",
    "plt.figure(figsize = (10,6))\n",
    "plt.plot(range(1,40), error_rate, color = 'blue', linestyle = '--', marker = 'o', \n",
    "        markerfacecolor = 'green', markersize = 10)\n",
    "\n",
    "plt.title('Error Rate vs K Value')\n",
    "plt.xlabel('K')\n",
    "plt.ylabel('Error Rate')\n"
   ]
  },
  {
   "cell_type": "markdown",
   "metadata": {},
   "source": [
    "***Retrain model with k=3***"
   ]
  },
  {
   "cell_type": "code",
   "execution_count": 97,
   "metadata": {},
   "outputs": [],
   "source": [
    "#One of the values of k where accuracy is high and error is low is k = 3\n",
    "knn = KNeighborsClassifier(n_neighbors=3)\n",
    "knn.fit(x_train, y_train)\n",
    "pred = knn.predict(x_test)"
   ]
  },
  {
   "cell_type": "markdown",
   "metadata": {},
   "source": [
    "***Model evaluation***"
   ]
  },
  {
   "cell_type": "code",
   "execution_count": 98,
   "metadata": {},
   "outputs": [
    {
     "name": "stdout",
     "output_type": "stream",
     "text": [
      "[[  17   50]\n",
      " [   7 4773]]\n",
      "\n",
      "\n",
      "              precision    recall  f1-score   support\n",
      "\n",
      "           0       0.71      0.25      0.37        67\n",
      "           1       0.99      1.00      0.99      4780\n",
      "\n",
      "    accuracy                           0.99      4847\n",
      "   macro avg       0.85      0.63      0.68      4847\n",
      "weighted avg       0.99      0.99      0.99      4847\n",
      "\n"
     ]
    }
   ],
   "source": [
    "#Print confusion matrix\n",
    "print(confusion_matrix(y_test,pred))\n",
    "print('\\n')\n",
    "#Print classification report\n",
    "print(classification_report(y_test, pred))"
   ]
  },
  {
   "cell_type": "code",
   "execution_count": 99,
   "metadata": {},
   "outputs": [
    {
     "name": "stdout",
     "output_type": "stream",
     "text": [
      "98.8240148545492\n"
     ]
    }
   ],
   "source": [
    "#Accuracy for k=3 model\n",
    "Actual = y_test\n",
    "Predicted = knn.predict(x_test)\n",
    "print(accuracy_score(Actual,Predicted)*100)"
   ]
  },
  {
   "cell_type": "markdown",
   "metadata": {},
   "source": [
    "## Decision Tree Model"
   ]
  },
  {
   "cell_type": "markdown",
   "metadata": {},
   "source": [
    "***Building Model***"
   ]
  },
  {
   "cell_type": "code",
   "execution_count": 100,
   "metadata": {},
   "outputs": [],
   "source": [
    "from sklearn.tree import DecisionTreeClassifier\n",
    "dtree = DecisionTreeClassifier()"
   ]
  },
  {
   "cell_type": "markdown",
   "metadata": {},
   "source": [
    "***Training Model***"
   ]
  },
  {
   "cell_type": "code",
   "execution_count": 101,
   "metadata": {},
   "outputs": [
    {
     "data": {
      "text/plain": [
       "DecisionTreeClassifier()"
      ]
     },
     "execution_count": 101,
     "metadata": {},
     "output_type": "execute_result"
    }
   ],
   "source": [
    "dtree.fit(x_train, y_train)"
   ]
  },
  {
   "cell_type": "markdown",
   "metadata": {},
   "source": [
    "***Predicting Model on Test Data***"
   ]
  },
  {
   "cell_type": "code",
   "execution_count": 102,
   "metadata": {},
   "outputs": [],
   "source": [
    "Predicted = dtree.predict(x_test)"
   ]
  },
  {
   "cell_type": "markdown",
   "metadata": {},
   "source": [
    "***Model Evaluation***"
   ]
  },
  {
   "cell_type": "code",
   "execution_count": 103,
   "metadata": {},
   "outputs": [
    {
     "name": "stdout",
     "output_type": "stream",
     "text": [
      "[[  67    0]\n",
      " [   0 4780]]\n",
      "\n",
      "\n",
      "              precision    recall  f1-score   support\n",
      "\n",
      "           0       1.00      1.00      1.00        67\n",
      "           1       1.00      1.00      1.00      4780\n",
      "\n",
      "    accuracy                           1.00      4847\n",
      "   macro avg       1.00      1.00      1.00      4847\n",
      "weighted avg       1.00      1.00      1.00      4847\n",
      "\n"
     ]
    }
   ],
   "source": [
    "#Confusion matrix\n",
    "print(confusion_matrix(y_test,Predicted))\n",
    "\n",
    "print('\\n')\n",
    "\n",
    "#Classification report\n",
    "print(classification_report(y_test, Predicted))"
   ]
  },
  {
   "cell_type": "code",
   "execution_count": 104,
   "metadata": {},
   "outputs": [
    {
     "name": "stdout",
     "output_type": "stream",
     "text": [
      "100.0\n"
     ]
    }
   ],
   "source": [
    "#Accuracy for decision tree model\n",
    "print(accuracy_score(y_test,Predicted)*100)"
   ]
  },
  {
   "cell_type": "markdown",
   "metadata": {},
   "source": [
    "# Comparing Models"
   ]
  },
  {
   "cell_type": "markdown",
   "metadata": {},
   "source": [
    "# Cross Validation Analysis"
   ]
  },
  {
   "cell_type": "markdown",
   "metadata": {},
   "source": [
    "***Logistic Regression Model:***"
   ]
  },
  {
   "cell_type": "code",
   "execution_count": 105,
   "metadata": {},
   "outputs": [
    {
     "name": "stdout",
     "output_type": "stream",
     "text": [
      "[0.98585323 0.97082228 0.98585323 0.98143236 0.98585323 0.98585323\n",
      " 0.99911583 0.98408488 0.98141593 0.98584071]\n"
     ]
    }
   ],
   "source": [
    "#Accuracy for Logistic Regression model\n",
    "from sklearn.model_selection import cross_val_score\n",
    "accuracy = cross_val_score(logmodel,x_train, y_train, cv = 10, scoring = \"accuracy\")\n",
    "print(accuracy)"
   ]
  },
  {
   "cell_type": "code",
   "execution_count": 106,
   "metadata": {},
   "outputs": [
    {
     "data": {
      "text/plain": [
       "98.46124895346745"
      ]
     },
     "execution_count": 106,
     "metadata": {},
     "output_type": "execute_result"
    }
   ],
   "source": [
    "#The average of all this accuracy should be chosen\n",
    "accuracy.mean()*100"
   ]
  },
  {
   "cell_type": "markdown",
   "metadata": {},
   "source": [
    "***kNN Model:***"
   ]
  },
  {
   "cell_type": "code",
   "execution_count": 107,
   "metadata": {},
   "outputs": [
    {
     "name": "stdout",
     "output_type": "stream",
     "text": [
      "98.94761468823108\n"
     ]
    }
   ],
   "source": [
    "#Accuracy for KNN model\n",
    "acc = []\n",
    "for i in range (1,40):\n",
    "    \n",
    "    knn = KNeighborsClassifier(n_neighbors = i)\n",
    "    accuracy = cross_val_score(knn,x_train, y_train, cv = 10, scoring = \"accuracy\")\n",
    "    accuracy = accuracy.mean()*100\n",
    "    acc.append(accuracy)\n",
    "print(max(acc))"
   ]
  },
  {
   "cell_type": "markdown",
   "metadata": {},
   "source": [
    "***Decision Tree Model:***"
   ]
  },
  {
   "cell_type": "code",
   "execution_count": 108,
   "metadata": {
    "scrolled": true
   },
   "outputs": [
    {
     "data": {
      "text/plain": [
       "99.99115826702034"
      ]
     },
     "execution_count": 108,
     "metadata": {},
     "output_type": "execute_result"
    }
   ],
   "source": [
    "#Accuracy for decision tree model\n",
    "accuracy = cross_val_score(dtree,x_train, y_train, cv = 10, scoring = \"accuracy\")\n",
    "accuracy.mean()*100"
   ]
  },
  {
   "cell_type": "code",
   "execution_count": null,
   "metadata": {},
   "outputs": [],
   "source": []
  }
 ],
 "metadata": {
  "kernelspec": {
   "display_name": "Python 3",
   "language": "python",
   "name": "python3"
  },
  "language_info": {
   "codemirror_mode": {
    "name": "ipython",
    "version": 3
   },
   "file_extension": ".py",
   "mimetype": "text/x-python",
   "name": "python",
   "nbconvert_exporter": "python",
   "pygments_lexer": "ipython3",
   "version": "3.8.3"
  }
 },
 "nbformat": 4,
 "nbformat_minor": 4
}
